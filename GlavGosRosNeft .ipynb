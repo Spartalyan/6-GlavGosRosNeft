{
 "cells": [
  {
   "cell_type": "markdown",
   "metadata": {},
   "source": [
    "# Выбор локации для скважины"
   ]
  },
  {
   "cell_type": "markdown",
   "metadata": {},
   "source": [
    "Допустим, мы работаем в добывающей компании «ГлавРосГосНефть». Нужно решить, где бурить новую скважину.\n",
    "\n",
    "Нам предоставлены пробы нефти в трёх регионах: в каждом 10 000 месторождений, где измерили качество нефти и объём её запасов. Постройте модель машинного обучения, которая поможет определить регион, где добыча принесёт наибольшую прибыль. Проанализируем возможную прибыль и риски техникой *Bootstrap.*\n",
    "\n",
    "Шаги для выбора локации:\n",
    "\n",
    "- В избранном регионе ищут месторождения, для каждого определяют значения признаков;\n",
    "- Строят модель и оценивают объём запасов;\n",
    "- Выбирают месторождения с самым высокими оценками значений. Количество месторождений зависит от бюджета компании и стоимости разработки одной скважины;\n",
    "- Прибыль равна суммарной прибыли отобранных месторождений.\n",
    "\n",
    "**ПЛАН:**\n",
    "\n",
    "1. Загрузка и обзор данных:\n",
    "   - Анализ объемов запасов в скажинах\n",
    "   - Проверка пропусков\n",
    "   - Проверка на дубликаты\n",
    "   - Корреляция данных\n",
    "2. Создание модели.\n",
    "3. Подготовка к расчёту прибыли.\n",
    "4. Расчёт прибыли и рисков."
   ]
  },
  {
   "cell_type": "markdown",
   "metadata": {},
   "source": [
    "## Загрузка и подготовка данных"
   ]
  },
  {
   "cell_type": "code",
   "execution_count": 1,
   "metadata": {},
   "outputs": [],
   "source": [
    "#импортируем библиотеки подгружаем модули необходимые нам в процессе работы\n",
    "import pandas as pd\n",
    "from sklearn.model_selection import train_test_split\n",
    "import numpy as np\n",
    "import scipy.stats as st\n",
    "from numpy.random import RandomState\n",
    "state = RandomState(12345)\n",
    "from sklearn.linear_model import LinearRegression\n",
    "from sklearn.metrics import mean_squared_error\n",
    "from sklearn.preprocessing import StandardScaler\n",
    "import matplotlib.pyplot as plt\n",
    "import seaborn as sns"
   ]
  },
  {
   "cell_type": "code",
   "execution_count": 2,
   "metadata": {},
   "outputs": [],
   "source": [
    "#Необходимые данные для расчета\n",
    "#в каждом регионе исследуют 500 точек\n",
    "ALL_POINTS = 500\n",
    "#в каждом оставляют 200 лучших\n",
    "BEST_POINTS = 200\n",
    "#бюджет на разработку 10 млрд рублей\n",
    "BUDGET = 10e9\n",
    "#1 баррель приносит 450 рублей дохода, объем скважин указывается в тыс бареллях, то сеть единица доходности 450 тыс\n",
    "PROFIT_PER_BARREL = 450000\n",
    "#максимально допустимый риск убытков 2.5%\n",
    "MAX_RISC_DAMAGE = 0.025"
   ]
  },
  {
   "cell_type": "markdown",
   "metadata": {},
   "source": [
    "### Исследование данных"
   ]
  },
  {
   "cell_type": "code",
   "execution_count": 3,
   "metadata": {},
   "outputs": [
    {
     "name": "stdout",
     "output_type": "stream",
     "text": [
      "Данные подгрузились\n"
     ]
    }
   ],
   "source": [
    "#Загрузим наши данные и сохраним их в датафреймах\n",
    "\n",
    "try:\n",
    "    df_0 = pd.read_csv('/Users/mariaspartalan/Desktop/готовые проекты/6 ГлавГосРосНефть/geo_data_0.csv')\n",
    "    df_1 = pd.read_csv('/Users/mariaspartalan/Desktop/готовые проекты/6 ГлавГосРосНефть/geo_data_1.csv')\n",
    "    df_2 = pd.read_csv('/Users/mariaspartalan/Desktop/готовые проекты/6 ГлавГосРосНефть/geo_data_2.csv')\n",
    "    \n",
    "except FileNotFoundError :\n",
    "    df_0 = pd.read_csv('/datasets/geo_data_0.csv')\n",
    "    df_1 = pd.read_csv('/datasets/geo_data_1.csv')\n",
    "    df_2 = pd.read_csv('/datasets/geo_data_2.csv')\n",
    "finally:\n",
    "    print('Данные подгрузились')\n",
    "\n",
    " "
   ]
  },
  {
   "cell_type": "code",
   "execution_count": 4,
   "metadata": {
    "scrolled": true
   },
   "outputs": [
    {
     "data": {
      "text/html": [
       "<div>\n",
       "<style scoped>\n",
       "    .dataframe tbody tr th:only-of-type {\n",
       "        vertical-align: middle;\n",
       "    }\n",
       "\n",
       "    .dataframe tbody tr th {\n",
       "        vertical-align: top;\n",
       "    }\n",
       "\n",
       "    .dataframe thead th {\n",
       "        text-align: right;\n",
       "    }\n",
       "</style>\n",
       "<table border=\"1\" class=\"dataframe\">\n",
       "  <thead>\n",
       "    <tr style=\"text-align: right;\">\n",
       "      <th></th>\n",
       "      <th>id</th>\n",
       "      <th>f0</th>\n",
       "      <th>f1</th>\n",
       "      <th>f2</th>\n",
       "      <th>product</th>\n",
       "    </tr>\n",
       "  </thead>\n",
       "  <tbody>\n",
       "    <tr>\n",
       "      <th>0</th>\n",
       "      <td>txEyH</td>\n",
       "      <td>0.705745</td>\n",
       "      <td>-0.497823</td>\n",
       "      <td>1.221170</td>\n",
       "      <td>105.280062</td>\n",
       "    </tr>\n",
       "    <tr>\n",
       "      <th>1</th>\n",
       "      <td>2acmU</td>\n",
       "      <td>1.334711</td>\n",
       "      <td>-0.340164</td>\n",
       "      <td>4.365080</td>\n",
       "      <td>73.037750</td>\n",
       "    </tr>\n",
       "    <tr>\n",
       "      <th>2</th>\n",
       "      <td>409Wp</td>\n",
       "      <td>1.022732</td>\n",
       "      <td>0.151990</td>\n",
       "      <td>1.419926</td>\n",
       "      <td>85.265647</td>\n",
       "    </tr>\n",
       "    <tr>\n",
       "      <th>3</th>\n",
       "      <td>iJLyR</td>\n",
       "      <td>-0.032172</td>\n",
       "      <td>0.139033</td>\n",
       "      <td>2.978566</td>\n",
       "      <td>168.620776</td>\n",
       "    </tr>\n",
       "    <tr>\n",
       "      <th>4</th>\n",
       "      <td>Xdl7t</td>\n",
       "      <td>1.988431</td>\n",
       "      <td>0.155413</td>\n",
       "      <td>4.751769</td>\n",
       "      <td>154.036647</td>\n",
       "    </tr>\n",
       "  </tbody>\n",
       "</table>\n",
       "</div>"
      ],
      "text/plain": [
       "      id        f0        f1        f2     product\n",
       "0  txEyH  0.705745 -0.497823  1.221170  105.280062\n",
       "1  2acmU  1.334711 -0.340164  4.365080   73.037750\n",
       "2  409Wp  1.022732  0.151990  1.419926   85.265647\n",
       "3  iJLyR -0.032172  0.139033  2.978566  168.620776\n",
       "4  Xdl7t  1.988431  0.155413  4.751769  154.036647"
      ]
     },
     "execution_count": 4,
     "metadata": {},
     "output_type": "execute_result"
    }
   ],
   "source": [
    "#Рассмотрим первые строки каждого из них внимательнее\n",
    "df_0.head(5)"
   ]
  },
  {
   "cell_type": "code",
   "execution_count": 5,
   "metadata": {},
   "outputs": [
    {
     "data": {
      "text/html": [
       "<div>\n",
       "<style scoped>\n",
       "    .dataframe tbody tr th:only-of-type {\n",
       "        vertical-align: middle;\n",
       "    }\n",
       "\n",
       "    .dataframe tbody tr th {\n",
       "        vertical-align: top;\n",
       "    }\n",
       "\n",
       "    .dataframe thead th {\n",
       "        text-align: right;\n",
       "    }\n",
       "</style>\n",
       "<table border=\"1\" class=\"dataframe\">\n",
       "  <thead>\n",
       "    <tr style=\"text-align: right;\">\n",
       "      <th></th>\n",
       "      <th>id</th>\n",
       "      <th>f0</th>\n",
       "      <th>f1</th>\n",
       "      <th>f2</th>\n",
       "      <th>product</th>\n",
       "    </tr>\n",
       "  </thead>\n",
       "  <tbody>\n",
       "    <tr>\n",
       "      <th>0</th>\n",
       "      <td>kBEdx</td>\n",
       "      <td>-15.001348</td>\n",
       "      <td>-8.276000</td>\n",
       "      <td>-0.005876</td>\n",
       "      <td>3.179103</td>\n",
       "    </tr>\n",
       "    <tr>\n",
       "      <th>1</th>\n",
       "      <td>62mP7</td>\n",
       "      <td>14.272088</td>\n",
       "      <td>-3.475083</td>\n",
       "      <td>0.999183</td>\n",
       "      <td>26.953261</td>\n",
       "    </tr>\n",
       "    <tr>\n",
       "      <th>2</th>\n",
       "      <td>vyE1P</td>\n",
       "      <td>6.263187</td>\n",
       "      <td>-5.948386</td>\n",
       "      <td>5.001160</td>\n",
       "      <td>134.766305</td>\n",
       "    </tr>\n",
       "    <tr>\n",
       "      <th>3</th>\n",
       "      <td>KcrkZ</td>\n",
       "      <td>-13.081196</td>\n",
       "      <td>-11.506057</td>\n",
       "      <td>4.999415</td>\n",
       "      <td>137.945408</td>\n",
       "    </tr>\n",
       "    <tr>\n",
       "      <th>4</th>\n",
       "      <td>AHL4O</td>\n",
       "      <td>12.702195</td>\n",
       "      <td>-8.147433</td>\n",
       "      <td>5.004363</td>\n",
       "      <td>134.766305</td>\n",
       "    </tr>\n",
       "  </tbody>\n",
       "</table>\n",
       "</div>"
      ],
      "text/plain": [
       "      id         f0         f1        f2     product\n",
       "0  kBEdx -15.001348  -8.276000 -0.005876    3.179103\n",
       "1  62mP7  14.272088  -3.475083  0.999183   26.953261\n",
       "2  vyE1P   6.263187  -5.948386  5.001160  134.766305\n",
       "3  KcrkZ -13.081196 -11.506057  4.999415  137.945408\n",
       "4  AHL4O  12.702195  -8.147433  5.004363  134.766305"
      ]
     },
     "execution_count": 5,
     "metadata": {},
     "output_type": "execute_result"
    }
   ],
   "source": [
    "df_1.head(5)"
   ]
  },
  {
   "cell_type": "code",
   "execution_count": 6,
   "metadata": {},
   "outputs": [
    {
     "data": {
      "text/html": [
       "<div>\n",
       "<style scoped>\n",
       "    .dataframe tbody tr th:only-of-type {\n",
       "        vertical-align: middle;\n",
       "    }\n",
       "\n",
       "    .dataframe tbody tr th {\n",
       "        vertical-align: top;\n",
       "    }\n",
       "\n",
       "    .dataframe thead th {\n",
       "        text-align: right;\n",
       "    }\n",
       "</style>\n",
       "<table border=\"1\" class=\"dataframe\">\n",
       "  <thead>\n",
       "    <tr style=\"text-align: right;\">\n",
       "      <th></th>\n",
       "      <th>id</th>\n",
       "      <th>f0</th>\n",
       "      <th>f1</th>\n",
       "      <th>f2</th>\n",
       "      <th>product</th>\n",
       "    </tr>\n",
       "  </thead>\n",
       "  <tbody>\n",
       "    <tr>\n",
       "      <th>0</th>\n",
       "      <td>fwXo0</td>\n",
       "      <td>-1.146987</td>\n",
       "      <td>0.963328</td>\n",
       "      <td>-0.828965</td>\n",
       "      <td>27.758673</td>\n",
       "    </tr>\n",
       "    <tr>\n",
       "      <th>1</th>\n",
       "      <td>WJtFt</td>\n",
       "      <td>0.262778</td>\n",
       "      <td>0.269839</td>\n",
       "      <td>-2.530187</td>\n",
       "      <td>56.069697</td>\n",
       "    </tr>\n",
       "    <tr>\n",
       "      <th>2</th>\n",
       "      <td>ovLUW</td>\n",
       "      <td>0.194587</td>\n",
       "      <td>0.289035</td>\n",
       "      <td>-5.586433</td>\n",
       "      <td>62.871910</td>\n",
       "    </tr>\n",
       "    <tr>\n",
       "      <th>3</th>\n",
       "      <td>q6cA6</td>\n",
       "      <td>2.236060</td>\n",
       "      <td>-0.553760</td>\n",
       "      <td>0.930038</td>\n",
       "      <td>114.572842</td>\n",
       "    </tr>\n",
       "    <tr>\n",
       "      <th>4</th>\n",
       "      <td>WPMUX</td>\n",
       "      <td>-0.515993</td>\n",
       "      <td>1.716266</td>\n",
       "      <td>5.899011</td>\n",
       "      <td>149.600746</td>\n",
       "    </tr>\n",
       "  </tbody>\n",
       "</table>\n",
       "</div>"
      ],
      "text/plain": [
       "      id        f0        f1        f2     product\n",
       "0  fwXo0 -1.146987  0.963328 -0.828965   27.758673\n",
       "1  WJtFt  0.262778  0.269839 -2.530187   56.069697\n",
       "2  ovLUW  0.194587  0.289035 -5.586433   62.871910\n",
       "3  q6cA6  2.236060 -0.553760  0.930038  114.572842\n",
       "4  WPMUX -0.515993  1.716266  5.899011  149.600746"
      ]
     },
     "execution_count": 6,
     "metadata": {},
     "output_type": "execute_result"
    }
   ],
   "source": [
    "df_2.head(5)"
   ]
  },
  {
   "cell_type": "code",
   "execution_count": 7,
   "metadata": {},
   "outputs": [
    {
     "name": "stdout",
     "output_type": "stream",
     "text": [
      "<class 'pandas.core.frame.DataFrame'>\n",
      "RangeIndex: 100000 entries, 0 to 99999\n",
      "Data columns (total 5 columns):\n",
      " #   Column   Non-Null Count   Dtype  \n",
      "---  ------   --------------   -----  \n",
      " 0   id       100000 non-null  object \n",
      " 1   f0       100000 non-null  float64\n",
      " 2   f1       100000 non-null  float64\n",
      " 3   f2       100000 non-null  float64\n",
      " 4   product  100000 non-null  float64\n",
      "dtypes: float64(4), object(1)\n",
      "memory usage: 3.8+ MB\n",
      "None\n",
      "\n",
      "<class 'pandas.core.frame.DataFrame'>\n",
      "RangeIndex: 100000 entries, 0 to 99999\n",
      "Data columns (total 5 columns):\n",
      " #   Column   Non-Null Count   Dtype  \n",
      "---  ------   --------------   -----  \n",
      " 0   id       100000 non-null  object \n",
      " 1   f0       100000 non-null  float64\n",
      " 2   f1       100000 non-null  float64\n",
      " 3   f2       100000 non-null  float64\n",
      " 4   product  100000 non-null  float64\n",
      "dtypes: float64(4), object(1)\n",
      "memory usage: 3.8+ MB\n",
      "None\n",
      "\n",
      "<class 'pandas.core.frame.DataFrame'>\n",
      "RangeIndex: 100000 entries, 0 to 99999\n",
      "Data columns (total 5 columns):\n",
      " #   Column   Non-Null Count   Dtype  \n",
      "---  ------   --------------   -----  \n",
      " 0   id       100000 non-null  object \n",
      " 1   f0       100000 non-null  float64\n",
      " 2   f1       100000 non-null  float64\n",
      " 3   f2       100000 non-null  float64\n",
      " 4   product  100000 non-null  float64\n",
      "dtypes: float64(4), object(1)\n",
      "memory usage: 3.8+ MB\n",
      "None\n"
     ]
    }
   ],
   "source": [
    "print(df_0.info())\n",
    "print()\n",
    "print(df_1.info())\n",
    "print()\n",
    "print(df_2.info())"
   ]
  },
  {
   "cell_type": "markdown",
   "metadata": {},
   "source": [
    "Мы загрузили 3 массива данных.\n",
    "\n",
    "Это 3 таблицы одинакового размера. В каждой содержится информация о скважинах в 3 регионахб в каждой по 100000.\n",
    "\n",
    "Все таблицы имеют схожу структуру.\n",
    "\n",
    "- id - уникальный идентификатор скважины.\n",
    "- f0, f1, f2 - характеристики скважин.\n",
    "- product - объем запасов в скважине (тыс. баррелей).\n",
    "\n"
   ]
  },
  {
   "cell_type": "markdown",
   "metadata": {},
   "source": [
    "Рассмотрим подробнее значения product по регионам"
   ]
  },
  {
   "cell_type": "code",
   "execution_count": 8,
   "metadata": {
    "scrolled": true
   },
   "outputs": [
    {
     "data": {
      "image/png": "[encoded data removed]",
      "text/plain": [
       "<Figure size 1500x700 with 1 Axes>"
      ]
     },
     "metadata": {},
     "output_type": "display_data"
    }
   ],
   "source": [
    "df_0['product'].hist(bins = 200, figsize = (15, 7))\n",
    "plt.title('Распределение объемов сырья в скважинах региона 0')\n",
    "plt.xlabel('Объем сырья')\n",
    "plt.ylabel('Количество скважин')\n",
    "plt.show;"
   ]
  },
  {
   "cell_type": "markdown",
   "metadata": {},
   "source": [
    "На графике первого региона отчетливо видны несколько мод, общая тенденция нормальная."
   ]
  },
  {
   "cell_type": "code",
   "execution_count": 9,
   "metadata": {},
   "outputs": [
    {
     "data": {
      "image/png": "[encoded data removed]",
      "text/plain": [
       "<Figure size 1500x700 with 1 Axes>"
      ]
     },
     "metadata": {},
     "output_type": "display_data"
    }
   ],
   "source": [
    "df_1['product'].hist(bins = 200, figsize = (15, 7))\n",
    "plt.title('Распределение объемов сырья в скважинах региона 1')\n",
    "plt.xlabel('Объем сырья')\n",
    "plt.ylabel('Количество скважин')\n",
    "plt.show;"
   ]
  },
  {
   "cell_type": "markdown",
   "metadata": {},
   "source": [
    "В целом объемы примерно такие же как и в предыдущем регионе, но распределение не стабильное. Нужно перепроверить предоставленные данные. Показатели все концентрируеются в точках с шагом в 25-30 баррелей."
   ]
  },
  {
   "cell_type": "code",
   "execution_count": 10,
   "metadata": {},
   "outputs": [
    {
     "data": {
      "image/png": "[encoded data removed]",
      "text/plain": [
       "<Figure size 1500x700 with 1 Axes>"
      ]
     },
     "metadata": {},
     "output_type": "display_data"
    }
   ],
   "source": [
    "df_2['product'].hist(bins = 200, figsize = (15, 7))\n",
    "plt.title('Распределение объемов сырья в скважинах региона 2')\n",
    "plt.xlabel('Объем сырья')\n",
    "plt.ylabel('Количество скважин')\n",
    "plt.show;"
   ]
  },
  {
   "cell_type": "markdown",
   "metadata": {},
   "source": [
    "в регионе 2 на графике распределения  тоже видны несколько мод, но в целом тенденция стремится к нормальной. Ситуация аналогична с регионом 0."
   ]
  },
  {
   "cell_type": "markdown",
   "metadata": {},
   "source": [
    "### Предобработка данных"
   ]
  },
  {
   "cell_type": "markdown",
   "metadata": {},
   "source": [
    "#### Проверка на пропуски\n",
    "Проверим данные на пропуски."
   ]
  },
  {
   "cell_type": "code",
   "execution_count": 11,
   "metadata": {},
   "outputs": [
    {
     "name": "stdout",
     "output_type": "stream",
     "text": [
      "В первом массиве 0 пропусков\n",
      "Во втором массиве 0 пропусков\n",
      "В третьем массиве 0 пропусков\n"
     ]
    }
   ],
   "source": [
    "print('В первом массиве {} пропусков'.format(df_0.isna().sum().sum()))\n",
    "print('Во втором массиве {} пропусков'.format(df_1.isna().sum().sum()))\n",
    "print('В третьем массиве {} пропусков'.format(df_2.isna().sum().sum()))"
   ]
  },
  {
   "cell_type": "markdown",
   "metadata": {},
   "source": [
    "#### Проверка на дубликаты"
   ]
  },
  {
   "cell_type": "code",
   "execution_count": 12,
   "metadata": {},
   "outputs": [
    {
     "name": "stdout",
     "output_type": "stream",
     "text": [
      "В первом массиве 0 пропусков\n",
      "Во втором массиве 0 пропусков\n",
      "В третьем массиве 0 пропусков\n"
     ]
    }
   ],
   "source": [
    "print('В первом массиве {} пропусков'.format(df_0.duplicated().sum()))\n",
    "print('Во втором массиве {} пропусков'.format(df_1.duplicated().sum()))\n",
    "print('В третьем массиве {} пропусков'.format(df_2.duplicated().sum()))"
   ]
  },
  {
   "cell_type": "markdown",
   "metadata": {},
   "source": [
    "Так же проверим на данные на неявные дубликаты.\n",
    "\n",
    "В данных содержаться данные о 100000 уникальных скважиных, это подразумевает, что не должно быть повторов в графе с уникальным id. Проверим это.\n"
   ]
  },
  {
   "cell_type": "code",
   "execution_count": 13,
   "metadata": {
    "scrolled": true
   },
   "outputs": [
    {
     "name": "stdout",
     "output_type": "stream",
     "text": [
      "По региону 0 значение id потворяется 10 раз\n",
      "По региону 1 значение id потворяется 4 раз\n",
      "По региону 2 значение id потворяется 4 раз\n"
     ]
    }
   ],
   "source": [
    "i = 0\n",
    "\n",
    "for r in [df_0, df_1, df_2]:\n",
    "    print('По региону {} значение id потворяется {} раз'.format(i, r['id'].duplicated().sum()))\n",
    "    i += 1"
   ]
  },
  {
   "cell_type": "markdown",
   "metadata": {},
   "source": [
    "Повторов не так много, но они имеются, при расчете мы их исключим и сообщим об этой ошибке."
   ]
  },
  {
   "cell_type": "code",
   "execution_count": 14,
   "metadata": {
    "scrolled": true
   },
   "outputs": [
    {
     "name": "stdout",
     "output_type": "stream",
     "text": [
      "По региону 0 осталось 0 дубликатов\n",
      "По региону 1 осталось 0 дубликатов\n",
      "По региону 2 осталось 0 дубликатов\n"
     ]
    }
   ],
   "source": [
    "#Перезапишем данные, удалив строки с повторяющимся id\n",
    "\n",
    "i = 0\n",
    "\n",
    "for r in [df_0, df_1, df_2]:\n",
    "    r = r.drop_duplicates(subset = ['id'], ignore_index = True)\n",
    "    print('По региону {} осталось {} дубликатов'.format(i, r['id'].duplicated().sum()))\n",
    "    i +=1"
   ]
  },
  {
   "cell_type": "markdown",
   "metadata": {},
   "source": [
    "#### Подсчет коореляции"
   ]
  },
  {
   "cell_type": "code",
   "execution_count": 15,
   "metadata": {},
   "outputs": [
    {
     "name": "stdout",
     "output_type": "stream",
     "text": [
      "Матрица корреляции для региона 0\n"
     ]
    },
    {
     "data": {
      "text/html": [
       "<div>\n",
       "<style scoped>\n",
       "    .dataframe tbody tr th:only-of-type {\n",
       "        vertical-align: middle;\n",
       "    }\n",
       "\n",
       "    .dataframe tbody tr th {\n",
       "        vertical-align: top;\n",
       "    }\n",
       "\n",
       "    .dataframe thead th {\n",
       "        text-align: right;\n",
       "    }\n",
       "</style>\n",
       "<table border=\"1\" class=\"dataframe\">\n",
       "  <thead>\n",
       "    <tr style=\"text-align: right;\">\n",
       "      <th></th>\n",
       "      <th>f0</th>\n",
       "      <th>f1</th>\n",
       "      <th>f2</th>\n",
       "      <th>product</th>\n",
       "    </tr>\n",
       "  </thead>\n",
       "  <tbody>\n",
       "    <tr>\n",
       "      <th>f0</th>\n",
       "      <td>1.000000</td>\n",
       "      <td>-0.440723</td>\n",
       "      <td>-0.003153</td>\n",
       "      <td>0.143536</td>\n",
       "    </tr>\n",
       "    <tr>\n",
       "      <th>f1</th>\n",
       "      <td>-0.440723</td>\n",
       "      <td>1.000000</td>\n",
       "      <td>0.001724</td>\n",
       "      <td>-0.192356</td>\n",
       "    </tr>\n",
       "    <tr>\n",
       "      <th>f2</th>\n",
       "      <td>-0.003153</td>\n",
       "      <td>0.001724</td>\n",
       "      <td>1.000000</td>\n",
       "      <td>0.483663</td>\n",
       "    </tr>\n",
       "    <tr>\n",
       "      <th>product</th>\n",
       "      <td>0.143536</td>\n",
       "      <td>-0.192356</td>\n",
       "      <td>0.483663</td>\n",
       "      <td>1.000000</td>\n",
       "    </tr>\n",
       "  </tbody>\n",
       "</table>\n",
       "</div>"
      ],
      "text/plain": [
       "               f0        f1        f2   product\n",
       "f0       1.000000 -0.440723 -0.003153  0.143536\n",
       "f1      -0.440723  1.000000  0.001724 -0.192356\n",
       "f2      -0.003153  0.001724  1.000000  0.483663\n",
       "product  0.143536 -0.192356  0.483663  1.000000"
      ]
     },
     "execution_count": 15,
     "metadata": {},
     "output_type": "execute_result"
    }
   ],
   "source": [
    "print('Матрица корреляции для региона 0')\n",
    "df_0.drop('id', axis=1).corr()"
   ]
  },
  {
   "cell_type": "code",
   "execution_count": 16,
   "metadata": {},
   "outputs": [
    {
     "name": "stdout",
     "output_type": "stream",
     "text": [
      "Матрица корреляции для региона для региона 0\n"
     ]
    },
    {
     "data": {
      "image/png": "[encoded data removed]",
      "text/plain": [
       "<Figure size 640x480 with 2 Axes>"
      ]
     },
     "metadata": {},
     "output_type": "display_data"
    },
    {
     "name": "stdout",
     "output_type": "stream",
     "text": [
      "Матрица корреляции для региона для региона 1\n"
     ]
    },
    {
     "data": {
      "image/png": "[encoded data removed]",
      "text/plain": [
       "<Figure size 640x480 with 2 Axes>"
      ]
     },
     "metadata": {},
     "output_type": "display_data"
    },
    {
     "name": "stdout",
     "output_type": "stream",
     "text": [
      "Матрица корреляции для региона для региона 2\n"
     ]
    },
    {
     "data": {
      "image/png": "[encoded data removed]",
      "text/plain": [
       "<Figure size 640x480 with 2 Axes>"
      ]
     },
     "metadata": {},
     "output_type": "display_data"
    }
   ],
   "source": [
    "z=0\n",
    "for i in (df_0, df_1, df_2):\n",
    "    print(f\"Матрица корреляции для региона для региона {z}\")\n",
    "    sns.heatmap(i.drop('id', axis=1).corr(), annot=True, cmap='coolwarm')\n",
    "    plt.show()\n",
    "    z += 1;"
   ]
  },
  {
   "cell_type": "markdown",
   "metadata": {},
   "source": [
    "Все показатели между признаками для региона 0 по модулю меньше 0.5, значит коореляция слабая.\n",
    "\n",
    "Есть большая коореляция между признаком f2 и объемом сырья в регионе 1.\n",
    "\n",
    "Как мы выяснили раньше в этом регионе также своебразное повторяющееся распределение объемов сырья. \n",
    "\n",
    "Лишний раз подтверждает необходимость перепроверить данные компании которая их предоставила.\n",
    "\n",
    "Все показатели между признаками для региона 2 по модулю меньше 0.5, значит кореляция слабая."
   ]
  },
  {
   "cell_type": "markdown",
   "metadata": {},
   "source": [
    "Все показатели между признаками для региона 2 по модулю меньше 0.5, значит кореляция слабая."
   ]
  },
  {
   "cell_type": "markdown",
   "metadata": {},
   "source": [
    "________\n",
    "**ПРОМЕЖУТОЧНЫЙ ВЫВОД:**\n",
    "\n",
    "На данном этапе работ загружены данные, для каждого сделаны отдельный датафрейм.\n",
    "\n",
    "Расммотрены внимательно значения product.\n",
    "В регионах 0 и 2 значения доход по скважинам распределено волнообразно, с нормальной тенденцией.\n",
    "В регионе 1 выявлена аномалия. Она вызвана или ошибкой в данных, в данных, или наличием пустых скважин.\n",
    "\n",
    "Данные проверенына пропуски и дубликаты. Оные отсутствуют. \n",
    "\n",
    "Так же id по регионам проверены на уникальность, дублирующиеся значения удалены.\n",
    "\n",
    "Данные по регионам проверены на корреляцию. В показатели везде низкие. Исключением явлется только корреляция f2 и product по региону 1."
   ]
  },
  {
   "cell_type": "markdown",
   "metadata": {},
   "source": [
    "## Обучение и проверка модели\n",
    "### Создание модели"
   ]
  },
  {
   "cell_type": "markdown",
   "metadata": {},
   "source": [
    "Нам нужно провести одинаковый объем работы по 3 регионам, для удобства пропишем функцию"
   ]
  },
  {
   "cell_type": "code",
   "execution_count": 17,
   "metadata": {},
   "outputs": [],
   "source": [
    "def analize_region(df):\n",
    "    #Удалим данные id, они не понадобятся нам для работы модели, а так же целевой признак product\n",
    "    features = df.drop(['id', 'product'], axis = 1)\n",
    "    target = df['product']\n",
    "    #Разобьем данные на обучающую и валидационную выборки в соотношение 75:25\n",
    "    features_train, features_valid, target_train, target_valid = train_test_split(features, target,\n",
    "                                                                                 test_size = 0.25,\n",
    "                                                                                 random_state = state)\n",
    "    #Стандартизируем признаки\n",
    "    scaler = StandardScaler()\n",
    "    scaler.fit(features_train)\n",
    "    features_train = scaler.fit_transform(features_train)\n",
    "    features_valid = scaler.transform(features_valid)\n",
    "    \n",
    "    #Создадим и обучим модель линейной регрессии (согласно изначальному заданию)\n",
    "    model = LinearRegression()\n",
    "    model.fit(features_train, target_train)\n",
    "    predictions = model.predict(features_valid)\n",
    "    predictions = pd.Series(predictions)\n",
    "    \n",
    "    #Рассчитаем RMSE и средний предсказанные объем сырья\n",
    "    rmse = mean_squared_error(target_valid, predictions) ** 0.5\n",
    "    average_product = sum(predictions) / len(predictions)\n",
    "    \n",
    "    print('RMSE = ', rmse)\n",
    "    print('Средний запас предсказанного сырья на 1 скважину', average_product)\n",
    "\n",
    "    return (predictions, target_valid.reset_index(drop=True), rmse)"
   ]
  },
  {
   "cell_type": "code",
   "execution_count": 18,
   "metadata": {
    "scrolled": true
   },
   "outputs": [
    {
     "name": "stdout",
     "output_type": "stream",
     "text": [
      "Данные для региона 0:\n",
      "\n",
      "RMSE =  37.5794217150813\n",
      "Средний запас предсказанного сырья на 1 скважину 92.59256778438005\n",
      "\n",
      "Данные для региона 1:\n",
      "\n",
      "RMSE =  0.8897367737680648\n",
      "Средний запас предсказанного сырья на 1 скважину 68.7699514579978\n",
      "\n",
      "Данные для региона 2:\n",
      "\n",
      "RMSE =  39.958042459521614\n",
      "Средний запас предсказанного сырья на 1 скважину 95.08752812252328\n",
      "\n"
     ]
    }
   ],
   "source": [
    "\n",
    "i = 0\n",
    "for region in [df_0, df_1, df_2]:\n",
    "    print(f\"Данные для региона {i}:\")\n",
    "    print()\n",
    "    analize_region(region)\n",
    "    print()\n",
    "    i+=1"
   ]
  },
  {
   "cell_type": "markdown",
   "metadata": {},
   "source": [
    "___________\n",
    "**ПРОМЕЖУТОЧНЫЙ ВЫВОД:**\n",
    "\n",
    "   В результате проведенных иследований выяснено, что самый высокий средний уровень сырья, 95 тыс баррелей на скважину, в регионе 2, но так же здесь и выше средняя квадратичная ошибка предсказанных значений, она составляет 39.95.\n",
    "    \n",
    "   Второй по точности  и по объему запасов регион 0, запас на скважину 92.6 тыс баррелей, ошибка 37.58.\n",
    "    \n",
    "   Самый маленький запас на скважину в регионе 1, 68 баррелей, но тут самая маленькая квадратичная ошибка6 всего 0.88. Нужно перепроверить исходные данные. \n",
    "    Так же возможно, что в этом регионе большое количество пустых скважин, отсюда никая средняя оценка."
   ]
  },
  {
   "cell_type": "markdown",
   "metadata": {},
   "source": [
    "## Подготовка к расчёту прибыли"
   ]
  },
  {
   "cell_type": "markdown",
   "metadata": {},
   "source": [
    "Подготовим данные, которые понадобяться нам в процессе работы"
   ]
  },
  {
   "cell_type": "code",
   "execution_count": 19,
   "metadata": {},
   "outputs": [
    {
     "name": "stdout",
     "output_type": "stream",
     "text": [
      "RMSE =  37.57951548534859\n",
      "Средний запас предсказанного сырья на 1 скважину 92.66386568661606\n",
      "RMSE =  0.890416321494619\n",
      "Средний запас предсказанного сырья на 1 скважину 69.22345150014004\n",
      "RMSE =  40.02938636981283\n",
      "Средний запас предсказанного сырья на 1 скважину 95.04953599535943\n"
     ]
    }
   ],
   "source": [
    "#сохраним данные рассчитанные в предыдущем пункте\n",
    "predictions_0, target_valid_0, rmse_0 = analize_region(df_0)\n",
    "predictions_1, target_valid_1, rmse_1 = analize_region(df_1)\n",
    "predictions_2, target_valid_2, rmse_2 = analize_region(df_2)"
   ]
  },
  {
   "cell_type": "markdown",
   "metadata": {},
   "source": [
    "Расчитаем минимальные допустимые экономические параметры для разработки регионов."
   ]
  },
  {
   "cell_type": "code",
   "execution_count": 20,
   "metadata": {},
   "outputs": [],
   "source": [
    "barr_per_point = BUDGET / BEST_POINTS / PROFIT_PER_BARREL"
   ]
  },
  {
   "cell_type": "code",
   "execution_count": 21,
   "metadata": {},
   "outputs": [
    {
     "name": "stdout",
     "output_type": "stream",
     "text": [
      "Общее количества сырья в регионе 22222 тыс баррелей\n",
      "Достаточный объем сырья в скважине для ее безубыточной разработки 111\n",
      "Средняя выручка с каждой скважины 50000000\n"
     ]
    }
   ],
   "source": [
    "print('Общее количества сырья в регионе {} тыс баррелей'.format(round(BUDGET / PROFIT_PER_BARREL)))\n",
    "print('Достаточный объем сырья в скважине для ее безубыточной разработки {}'.format(round(barr_per_point)))\n",
    "print('Средняя выручка с каждой скважины {}'.format(round(BUDGET/BEST_POINTS)))"
   ]
  },
  {
   "cell_type": "markdown",
   "metadata": {},
   "source": [
    "__________\n",
    "**ПРОМЕЖУТОЧНЫЙ ВЫВОД:**\n",
    "\n",
    "Для того чтобы окупить вложения в исследование региона и разработку скважин, необходимо определить 200 сместонахождений со средним объемом сырья 111 тыс баррелей.\n",
    "\n",
    "В предыдущем пункте нашей работы мы предсказали средний уровень сырья в скважине по регионам 92, 68 И 95. В каждом представлены данные о 100000 скважин.\n",
    "\n",
    "Сравнивая текущие значения ожидаемого запаса сырья в точке и необходимый для безубыточной работы запас сырья, мы приходим к выводу, что ни в одном регионе его недостаточно. \n",
    "\n",
    "Важно понимать, что среднее ожидаемое значение сырья в точке по региона рассчитано на основе 25 000 точек, из которых мы можем разработать только 200 - само собой, что среди них могут оказать как плохие, так и хорошие скважины с точки зрения запаса в них продукта.\n",
    "\n",
    "Случайным образом отбирая точки и считая финансовый результат работы в них, мы можем оценить прибыль и риски работы в регионе - это и есть обоснование дальнейшей процедуры бутстрапирования.\n",
    "\n",
    "Проделаем ее в следующем пункте работы."
   ]
  },
  {
   "cell_type": "markdown",
   "metadata": {},
   "source": [
    "## Расчёт прибыли и рисков "
   ]
  },
  {
   "cell_type": "markdown",
   "metadata": {},
   "source": [
    "### Расчет прибыли\n",
    "\n",
    "Напишем функцию для расчет прибыли по регионам"
   ]
  },
  {
   "cell_type": "code",
   "execution_count": 26,
   "metadata": {},
   "outputs": [],
   "source": [
    "def profit(predictions, target):\n",
    "    top_preds = predictions.sort_values(ascending=False)\n",
    "    top_target = target[top_preds.index][:200]\n",
    "    revenue = top_target.sum() * PROFIT_PER_BARREL\n",
    "    return (revenue - BUDGET) / 1000000"
   ]
  },
  {
   "cell_type": "code",
   "execution_count": 27,
   "metadata": {},
   "outputs": [
    {
     "name": "stdout",
     "output_type": "stream",
     "text": [
      "Прибыль региона 0 с вычетом затрат на исследование и разработку составит 3333.004211947521 млн. рублей\n",
      "\n",
      "Прибыль региона 1 с вычетом затрат на исследование и разработку составит 2415.086696681511 млн. рублей\n",
      "\n",
      "Прибыль региона 2 с вычетом затрат на исследование и разработку составит 2697.49487789637 млн. рублей\n"
     ]
    }
   ],
   "source": [
    "print('Прибыль региона 0 с вычетом затрат на исследование и разработку составит {} млн. рублей'.\n",
    "      format(profit(predictions_0, target_valid_0)))\n",
    "print()\n",
    "print('Прибыль региона 1 с вычетом затрат на исследование и разработку составит {} млн. рублей'.\n",
    "      format(profit(predictions_1, target_valid_1)))\n",
    "print()\n",
    "print('Прибыль региона 2 с вычетом затрат на исследование и разработку составит {} млн. рублей'.\n",
    "      format(profit(predictions_2, target_valid_2)))"
   ]
  },
  {
   "cell_type": "code",
   "execution_count": 30,
   "metadata": {},
   "outputs": [],
   "source": [
    "def find_conf_interval_and_loss_risk(predictions, target):\n",
    "    \n",
    "    profit_calc = []\n",
    "    \n",
    "    for x in range(1000):\n",
    "    \n",
    "        target_sample = target.sample(ALL_POINTS, replace=True, random_state=state)\n",
    "        predictions_sample = predictions[target_sample.index]\n",
    "        profit_calc.append(profit(predictions_sample, target_sample))   \n",
    "        \n",
    "    lower = int(np.percentile(profit_calc, 2.5))\n",
    "    higher = int(np.percentile(profit_calc, 97.5))\n",
    "    mean_revenue = int(sum(profit_calc) / len(profit_calc))\n",
    "    risk = st.percentileofscore(profit_calc, 0)\n",
    "\n",
    "    return ((lower, higher), mean_revenue, risk)"
   ]
  },
  {
   "cell_type": "code",
   "execution_count": 31,
   "metadata": {},
   "outputs": [
    {
     "name": "stdout",
     "output_type": "stream",
     "text": [
      "Регион 0\n",
      "\n",
      "-----------------------------------------\n",
      "Доход: 429\n",
      "95% доверительный интервал: (-84, 937)\n",
      "Риск убытка: 5.300000000000001\n",
      "-----------------------------------------\n",
      "\n",
      "\n",
      "Регион 1\n",
      "\n",
      "-----------------------------------------\n",
      "Доход: 545\n",
      "95% доверительный интервал: (163, 976)\n",
      "Риск убытка: 0.2\n",
      "-----------------------------------------\n",
      "\n",
      "\n",
      "Регион 2\n",
      "\n",
      "-----------------------------------------\n",
      "Доход: 432\n",
      "95% доверительный интервал: (-153, 967)\n",
      "Риск убытка: 6.4\n",
      "-----------------------------------------\n",
      "\n",
      "\n"
     ]
    }
   ],
   "source": [
    "i = 0\n",
    "for preds, target in zip([predictions_0, predictions_1, predictions_2], \n",
    "                         [target_valid_0, target_valid_1, target_valid_2]):\n",
    "    interval, mean_revenue, risk = find_conf_interval_and_loss_risk(preds, target)\n",
    "    print('Регион {}'.format(i))\n",
    "    print('\\n-----------------------------------------')\n",
    "    print('Доход: {}'.format(mean_revenue))\n",
    "    print('95% доверительный интервал: {}'.format(interval))\n",
    "    print('Риск убытка: {}'.format(risk))\n",
    "    print('-----------------------------------------\\n\\n')\n",
    "    i+=1"
   ]
  },
  {
   "cell_type": "markdown",
   "metadata": {},
   "source": [
    "На основании полученных результатов, можно предположить, что самым перспективным для разработки будет регион 1Б так как прибыль максимальна, а риски убытков минимальны."
   ]
  },
  {
   "cell_type": "markdown",
   "metadata": {},
   "source": [
    "__________\n",
    "**ОБЩИЙ ВЫВОД:**\n",
    "\n",
    "\n",
    "* В ходе данной работы были загружены массивы данных по 3 регионам. В каждом из них информация о 100000 скважиных.\n",
    " Данные были обработаны, проверены на наличие дубликатов, пропусков. \n",
    " \n",
    " Так же id по регионам проверены на уникальность, дублирующиеся значения удалены.\n",
    " \n",
    " Данные по регионам проверены на корреляцию. В показатели везде низкие. Исключением явлется только корреляция f2 и product по региону 1.\n",
    " \n",
    " ***Была выявлена аномалия в данных по региону 1:***\n",
    "\n",
    "\n",
    " Данные о запасах сырья в этом регионе распределены, не очень равномерно, а снеким интервалом. Информация представлена на графике выше. Для дальнейших результатов, данные не подвергались изменениям.\n",
    " \n",
    "* Была создана модель, которая предсказывала объем сырья в скважине, основываясь на полученных данных. По результатам работы модели были вычислены средняя квадратичная ошибка предсказания и средний объем сырья со скважины на регион:\n",
    "\n",
    "Данные для региона 0:\n",
    "\n",
    "RMSE =  37.5794217150813\n",
    "Средний запас предсказанного сырья на 1 скважину 92.59256778438008\n",
    "\n",
    "Данные для региона 1:\n",
    "\n",
    "RMSE =  0.889736773768065\n",
    "Средний запас предсказанного сырья на 1 скважину 68.76995145799782\n",
    "\n",
    "Данные для региона 2:\n",
    "\n",
    "RMSE =  39.958042459521614\n",
    "Средний запас предсказанного сырья на 1 скважину 95.08752812252328\n",
    "\n",
    "* Были проанализированы мощности и высчитаны необходимые для экономически выгодной разработки региона данные:\n",
    "\n",
    "Для того чтобы окупить вложения в исследование региона и разработку скважин, необходимо определить 200 сместонахождений со средним объемом сырья 111 тыс баррелей.\n",
    "\n",
    "В предыдущем пункте нашей работы мы предсказали средний уровень сырья в скважине по регионам 92, 68 И 95. В каждом представлены данные о 100000 скважин.\n",
    "\n",
    "То есть найти по 200 с необходимым нам уровнем сырья очень реально. \n",
    "\n",
    "* Были расчитаны прибыли по регионам:\n",
    "\n",
    "Прибыль региона 0 с вычетом затрат на исследование и разработку составит 3333.004211947521 млн. рублей\n",
    "\n",
    "Прибыль региона 1 с вычетом затрат на исследование и разработку составит 2415.086696681511 млн. рублей\n",
    "\n",
    "Прибыль региона 2 с вычетом затрат на исследование и разработку составит 2697.49487789637 млн. рублей\n",
    "\n",
    "* Были расчитаны доходы и риски убытков:\n",
    "\n",
    "**Регион 0**\n",
    "\n",
    "Доход: 429\n",
    "\n",
    "95% доверительный интервал: (-84, 937)\n",
    "\n",
    "Риск убытка: 5.300000000000001\n",
    "\n",
    "\n",
    "**Регион 1**\n",
    "\n",
    "Доход: 545\n",
    "\n",
    "95% доверительный интервал: (163, 976)\n",
    "\n",
    "Риск убытка: 0.2\n",
    "\n",
    "\n",
    "**Регион 2**\n",
    "\n",
    "Доход: 432\n",
    "\n",
    "95% доверительный интервал: (-153, 967)\n",
    "\n",
    "Риск убытка: 6.4\n",
    "\n",
    "\n",
    "* На основании полученных данных, можно сделать вывод, что оптимальным для разработки и исследования будет регион 1, так как его прибыль больше остальных. А риски убытков минимальны"
   ]
  }
 ],
 "metadata": {
  "ExecuteTimeLog": [
   {
    "duration": 357,
    "start_time": "2023-09-23T15:43:10.409Z"
   },
   {
    "duration": 128,
    "start_time": "2023-09-23T15:46:26.628Z"
   },
   {
    "duration": 71,
    "start_time": "2023-09-23T15:46:46.050Z"
   },
   {
    "duration": 819,
    "start_time": "2023-09-23T15:48:47.975Z"
   },
   {
    "duration": 7,
    "start_time": "2023-09-23T15:49:07.287Z"
   },
   {
    "duration": 14,
    "start_time": "2023-09-23T15:49:10.594Z"
   },
   {
    "duration": 17,
    "start_time": "2023-09-23T15:49:54.022Z"
   },
   {
    "duration": 472,
    "start_time": "2023-09-23T15:50:03.325Z"
   },
   {
    "duration": 37,
    "start_time": "2023-09-23T15:50:05.408Z"
   },
   {
    "duration": 13,
    "start_time": "2023-09-23T16:03:02.584Z"
   },
   {
    "duration": 10,
    "start_time": "2023-09-23T16:03:17.234Z"
   },
   {
    "duration": 15,
    "start_time": "2023-09-23T16:03:29.367Z"
   },
   {
    "duration": 30,
    "start_time": "2023-09-23T16:04:00.348Z"
   },
   {
    "duration": 45,
    "start_time": "2023-09-23T16:05:35.983Z"
   },
   {
    "duration": 17,
    "start_time": "2023-09-23T16:05:55.070Z"
   },
   {
    "duration": 8,
    "start_time": "2023-09-23T16:06:20.611Z"
   },
   {
    "duration": 17,
    "start_time": "2023-09-23T16:06:29.869Z"
   },
   {
    "duration": 9,
    "start_time": "2023-09-23T16:06:56.676Z"
   },
   {
    "duration": 15,
    "start_time": "2023-09-23T16:06:59.348Z"
   },
   {
    "duration": 36,
    "start_time": "2023-09-23T16:08:02.695Z"
   },
   {
    "duration": 10,
    "start_time": "2023-09-23T16:19:30.907Z"
   },
   {
    "duration": 114,
    "start_time": "2023-09-23T16:20:09.327Z"
   },
   {
    "duration": 6,
    "start_time": "2023-09-23T16:34:18.895Z"
   },
   {
    "duration": 2,
    "start_time": "2023-09-23T16:34:25.417Z"
   },
   {
    "duration": 419,
    "start_time": "2023-09-23T16:34:25.421Z"
   },
   {
    "duration": 15,
    "start_time": "2023-09-23T16:34:25.841Z"
   },
   {
    "duration": 10,
    "start_time": "2023-09-23T16:34:25.857Z"
   },
   {
    "duration": 8,
    "start_time": "2023-09-23T16:34:25.869Z"
   },
   {
    "duration": 53,
    "start_time": "2023-09-23T16:34:25.878Z"
   },
   {
    "duration": 47,
    "start_time": "2023-09-23T16:34:25.933Z"
   },
   {
    "duration": 138,
    "start_time": "2023-09-23T16:34:25.982Z"
   },
   {
    "duration": 8,
    "start_time": "2023-09-23T16:34:26.123Z"
   },
   {
    "duration": 4,
    "start_time": "2023-09-23T16:37:24.115Z"
   },
   {
    "duration": 765,
    "start_time": "2023-09-23T16:51:23.117Z"
   },
   {
    "duration": 54,
    "start_time": "2023-09-23T16:57:17.218Z"
   },
   {
    "duration": 4,
    "start_time": "2023-09-23T16:57:30.622Z"
   },
   {
    "duration": 11,
    "start_time": "2023-09-23T16:59:31.235Z"
   },
   {
    "duration": 22,
    "start_time": "2023-09-23T17:00:10.112Z"
   },
   {
    "duration": 5,
    "start_time": "2023-09-23T17:19:48.643Z"
   },
   {
    "duration": 6,
    "start_time": "2023-09-23T17:20:40.759Z"
   },
   {
    "duration": 4,
    "start_time": "2023-09-23T17:23:27.212Z"
   },
   {
    "duration": 27,
    "start_time": "2023-09-23T17:24:27.791Z"
   },
   {
    "duration": 4,
    "start_time": "2023-09-23T17:24:35.778Z"
   },
   {
    "duration": 516,
    "start_time": "2023-09-23T17:24:35.785Z"
   },
   {
    "duration": 12,
    "start_time": "2023-09-23T17:24:36.303Z"
   },
   {
    "duration": 60,
    "start_time": "2023-09-23T17:24:36.317Z"
   },
   {
    "duration": 19,
    "start_time": "2023-09-23T17:24:36.380Z"
   },
   {
    "duration": 96,
    "start_time": "2023-09-23T17:24:36.402Z"
   },
   {
    "duration": 20,
    "start_time": "2023-09-23T17:24:36.502Z"
   },
   {
    "duration": 112,
    "start_time": "2023-09-23T17:24:36.523Z"
   },
   {
    "duration": 15,
    "start_time": "2023-09-23T17:24:36.637Z"
   },
   {
    "duration": 51,
    "start_time": "2023-09-23T17:24:36.654Z"
   },
   {
    "duration": 4,
    "start_time": "2023-09-23T17:25:15.327Z"
   },
   {
    "duration": 31,
    "start_time": "2023-09-23T17:25:17.829Z"
   },
   {
    "duration": 5,
    "start_time": "2023-09-23T17:26:02.183Z"
   },
   {
    "duration": 6,
    "start_time": "2023-09-23T17:27:05.521Z"
   },
   {
    "duration": 29,
    "start_time": "2023-09-23T17:27:08.697Z"
   },
   {
    "duration": 4,
    "start_time": "2023-09-23T17:28:41.183Z"
   },
   {
    "duration": 4,
    "start_time": "2023-09-23T17:28:44.441Z"
   },
   {
    "duration": 181,
    "start_time": "2023-09-23T17:28:46.969Z"
   },
   {
    "duration": 4,
    "start_time": "2023-09-23T17:29:03.145Z"
   },
   {
    "duration": 47,
    "start_time": "2023-09-23T17:29:06.148Z"
   },
   {
    "duration": 9,
    "start_time": "2023-09-23T17:29:12.489Z"
   },
   {
    "duration": 21,
    "start_time": "2023-09-23T17:29:14.624Z"
   },
   {
    "duration": 284,
    "start_time": "2023-09-23T17:33:17.675Z"
   },
   {
    "duration": 9,
    "start_time": "2023-09-23T17:41:41.038Z"
   },
   {
    "duration": 3,
    "start_time": "2023-09-23T17:41:45.215Z"
   },
   {
    "duration": 5,
    "start_time": "2023-09-23T17:44:32.490Z"
   },
   {
    "duration": 285,
    "start_time": "2023-09-23T17:44:35.403Z"
   },
   {
    "duration": 1164,
    "start_time": "2023-09-24T11:39:57.400Z"
   },
   {
    "duration": 840,
    "start_time": "2023-09-24T11:39:58.566Z"
   },
   {
    "duration": 17,
    "start_time": "2023-09-24T11:39:59.407Z"
   },
   {
    "duration": 11,
    "start_time": "2023-09-24T11:39:59.426Z"
   },
   {
    "duration": 21,
    "start_time": "2023-09-24T11:39:59.440Z"
   },
   {
    "duration": 53,
    "start_time": "2023-09-24T11:39:59.463Z"
   },
   {
    "duration": 23,
    "start_time": "2023-09-24T11:39:59.518Z"
   },
   {
    "duration": 156,
    "start_time": "2023-09-24T11:39:59.543Z"
   },
   {
    "duration": 6,
    "start_time": "2023-09-24T11:39:59.708Z"
   },
   {
    "duration": 496,
    "start_time": "2023-09-24T11:39:59.715Z"
   },
   {
    "duration": 352,
    "start_time": "2023-09-24T11:41:51.500Z"
   },
   {
    "duration": 142,
    "start_time": "2023-09-24T11:42:09.368Z"
   },
   {
    "duration": 425,
    "start_time": "2023-09-24T11:46:34.231Z"
   },
   {
    "duration": 10,
    "start_time": "2023-09-24T11:46:38.661Z"
   },
   {
    "duration": 9,
    "start_time": "2023-09-24T11:46:41.778Z"
   },
   {
    "duration": 9,
    "start_time": "2023-09-24T11:46:46.941Z"
   },
   {
    "duration": 40,
    "start_time": "2023-09-24T11:46:55.673Z"
   },
   {
    "duration": 22,
    "start_time": "2023-09-24T11:47:06.895Z"
   },
   {
    "duration": 142,
    "start_time": "2023-09-24T11:47:14.482Z"
   },
   {
    "duration": 245,
    "start_time": "2023-09-24T11:47:32.063Z"
   },
   {
    "duration": 5,
    "start_time": "2023-09-24T11:47:48.079Z"
   },
   {
    "duration": 214,
    "start_time": "2023-09-24T11:47:50.495Z"
   },
   {
    "duration": 121,
    "start_time": "2023-09-24T11:48:33.692Z"
   },
   {
    "duration": 436,
    "start_time": "2023-09-24T11:48:44.806Z"
   },
   {
    "duration": 5,
    "start_time": "2023-09-24T11:49:47.708Z"
   },
   {
    "duration": 530,
    "start_time": "2023-09-24T11:50:06.689Z"
   },
   {
    "duration": 4,
    "start_time": "2023-09-24T11:50:14.020Z"
   },
   {
    "duration": 4,
    "start_time": "2023-09-24T11:50:35.848Z"
   },
   {
    "duration": 8,
    "start_time": "2023-09-24T11:50:46.408Z"
   },
   {
    "duration": 8,
    "start_time": "2023-09-24T11:50:49.355Z"
   },
   {
    "duration": 4,
    "start_time": "2023-09-24T11:51:05.245Z"
   },
   {
    "duration": 8,
    "start_time": "2023-09-24T11:52:05.663Z"
   },
   {
    "duration": 7,
    "start_time": "2023-09-24T11:52:16.349Z"
   },
   {
    "duration": 219,
    "start_time": "2023-09-24T11:52:17.792Z"
   },
   {
    "duration": 6,
    "start_time": "2023-09-24T11:53:10.232Z"
   },
   {
    "duration": 61,
    "start_time": "2023-09-24T11:53:12.164Z"
   },
   {
    "duration": 4,
    "start_time": "2023-09-24T11:55:55.507Z"
   },
   {
    "duration": 6,
    "start_time": "2023-09-24T11:56:00.144Z"
   },
   {
    "duration": 53,
    "start_time": "2023-09-24T11:56:01.663Z"
   },
   {
    "duration": 7,
    "start_time": "2023-09-24T11:56:44.252Z"
   },
   {
    "duration": 180,
    "start_time": "2023-09-24T11:56:46.237Z"
   },
   {
    "duration": 6,
    "start_time": "2023-09-24T11:58:16.331Z"
   },
   {
    "duration": 86,
    "start_time": "2023-09-24T11:58:18.030Z"
   },
   {
    "duration": 4,
    "start_time": "2023-09-24T11:58:28.118Z"
   },
   {
    "duration": 6,
    "start_time": "2023-09-24T11:58:34.003Z"
   },
   {
    "duration": 124,
    "start_time": "2023-09-24T11:58:35.293Z"
   },
   {
    "duration": 124,
    "start_time": "2023-09-24T11:59:31.687Z"
   },
   {
    "duration": 7,
    "start_time": "2023-09-24T11:59:38.700Z"
   },
   {
    "duration": 211,
    "start_time": "2023-09-24T11:59:40.908Z"
   },
   {
    "duration": 7,
    "start_time": "2023-09-24T12:00:20.039Z"
   },
   {
    "duration": 438,
    "start_time": "2023-09-24T12:00:21.874Z"
   },
   {
    "duration": 397,
    "start_time": "2023-09-24T12:00:28.823Z"
   },
   {
    "duration": 3,
    "start_time": "2023-09-24T12:00:37.891Z"
   },
   {
    "duration": 3,
    "start_time": "2023-09-24T12:00:49.665Z"
   },
   {
    "duration": 6,
    "start_time": "2023-09-24T12:01:00.434Z"
   },
   {
    "duration": 402,
    "start_time": "2023-09-24T12:01:02.026Z"
   },
   {
    "duration": 3,
    "start_time": "2023-09-24T12:01:04.794Z"
   },
   {
    "duration": 419,
    "start_time": "2023-09-24T12:01:25.711Z"
   },
   {
    "duration": 4,
    "start_time": "2023-09-24T12:01:29.000Z"
   },
   {
    "duration": 3,
    "start_time": "2023-09-24T12:01:44.786Z"
   },
   {
    "duration": 6,
    "start_time": "2023-09-24T12:02:52.286Z"
   },
   {
    "duration": 92,
    "start_time": "2023-09-24T12:02:54.724Z"
   },
   {
    "duration": 123,
    "start_time": "2023-09-24T12:03:19.795Z"
   },
   {
    "duration": 6,
    "start_time": "2023-09-24T12:04:27.999Z"
   },
   {
    "duration": 434,
    "start_time": "2023-09-24T12:04:30.090Z"
   },
   {
    "duration": 4,
    "start_time": "2023-09-24T12:04:33.423Z"
   },
   {
    "duration": 3,
    "start_time": "2023-09-24T12:04:48.354Z"
   },
   {
    "duration": 6,
    "start_time": "2023-09-24T12:10:10.970Z"
   },
   {
    "duration": 8,
    "start_time": "2023-09-24T12:10:21.454Z"
   },
   {
    "duration": 512,
    "start_time": "2023-09-24T12:10:23.202Z"
   },
   {
    "duration": 5,
    "start_time": "2023-09-24T12:10:32.556Z"
   },
   {
    "duration": 4,
    "start_time": "2023-09-24T12:10:41.648Z"
   },
   {
    "duration": 6,
    "start_time": "2023-09-24T12:11:17.297Z"
   },
   {
    "duration": 440,
    "start_time": "2023-09-24T12:11:19.576Z"
   },
   {
    "duration": 4,
    "start_time": "2023-09-24T12:11:22.773Z"
   },
   {
    "duration": 4,
    "start_time": "2023-09-24T12:11:25.036Z"
   },
   {
    "duration": 440,
    "start_time": "2023-09-24T12:12:24.578Z"
   },
   {
    "duration": 5,
    "start_time": "2023-09-24T12:12:27.297Z"
   },
   {
    "duration": 4,
    "start_time": "2023-09-24T12:12:30.374Z"
   },
   {
    "duration": 75,
    "start_time": "2023-09-24T12:14:11.339Z"
   },
   {
    "duration": 4,
    "start_time": "2023-09-24T12:29:20.873Z"
   },
   {
    "duration": 3,
    "start_time": "2023-09-24T12:30:38.312Z"
   },
   {
    "duration": 3,
    "start_time": "2023-09-24T12:34:53.092Z"
   },
   {
    "duration": 6,
    "start_time": "2023-09-24T12:35:00.725Z"
   },
   {
    "duration": 5,
    "start_time": "2023-09-24T12:41:52.994Z"
   },
   {
    "duration": 451,
    "start_time": "2023-09-24T12:42:08.579Z"
   },
   {
    "duration": 431,
    "start_time": "2023-09-24T12:44:46.091Z"
   },
   {
    "duration": 4,
    "start_time": "2023-09-24T12:45:11.552Z"
   },
   {
    "duration": 4,
    "start_time": "2023-09-24T12:45:18.495Z"
   },
   {
    "duration": 5,
    "start_time": "2023-09-24T12:47:48.709Z"
   },
   {
    "duration": 71,
    "start_time": "2023-09-24T12:47:54.344Z"
   },
   {
    "duration": 6,
    "start_time": "2023-09-24T12:48:19.272Z"
   },
   {
    "duration": 399,
    "start_time": "2023-09-24T12:48:21.520Z"
   },
   {
    "duration": 8,
    "start_time": "2023-09-24T12:49:57.238Z"
   },
   {
    "duration": 198,
    "start_time": "2023-09-24T12:49:58.910Z"
   },
   {
    "duration": 382,
    "start_time": "2023-09-24T12:50:25.129Z"
   },
   {
    "duration": 6,
    "start_time": "2023-09-24T12:50:50.068Z"
   },
   {
    "duration": 418,
    "start_time": "2023-09-24T12:50:52.209Z"
   },
   {
    "duration": 3,
    "start_time": "2023-09-24T12:54:59.793Z"
   },
   {
    "duration": 3,
    "start_time": "2023-09-24T12:55:03.059Z"
   },
   {
    "duration": 4,
    "start_time": "2023-09-24T12:55:05.457Z"
   },
   {
    "duration": 12,
    "start_time": "2023-09-24T13:01:03.348Z"
   },
   {
    "duration": 3,
    "start_time": "2023-09-24T13:01:09.360Z"
   },
   {
    "duration": 3,
    "start_time": "2023-09-24T13:01:10.761Z"
   },
   {
    "duration": 133,
    "start_time": "2023-09-24T13:01:30.020Z"
   },
   {
    "duration": 3,
    "start_time": "2023-09-24T13:01:33.854Z"
   },
   {
    "duration": 4,
    "start_time": "2023-09-24T13:08:57.858Z"
   },
   {
    "duration": 4,
    "start_time": "2023-09-24T13:09:09.789Z"
   },
   {
    "duration": 6,
    "start_time": "2023-09-24T13:09:11.656Z"
   },
   {
    "duration": 5,
    "start_time": "2023-09-24T13:09:40.806Z"
   },
   {
    "duration": 5,
    "start_time": "2023-09-24T13:10:10.768Z"
   },
   {
    "duration": 5,
    "start_time": "2023-09-24T13:10:33.770Z"
   },
   {
    "duration": 5,
    "start_time": "2023-09-24T13:10:52.937Z"
   },
   {
    "duration": 670,
    "start_time": "2023-09-24T13:24:47.742Z"
   },
   {
    "duration": 7,
    "start_time": "2023-09-24T13:25:51.547Z"
   },
   {
    "duration": 283,
    "start_time": "2023-09-24T13:25:53.858Z"
   },
   {
    "duration": 6,
    "start_time": "2023-09-24T13:29:09.803Z"
   },
   {
    "duration": 1629,
    "start_time": "2023-09-24T13:29:11.723Z"
   },
   {
    "duration": 6,
    "start_time": "2023-09-24T13:29:35.175Z"
   },
   {
    "duration": 641,
    "start_time": "2023-09-24T13:29:36.702Z"
   },
   {
    "duration": 6,
    "start_time": "2023-09-24T13:32:03.640Z"
   },
   {
    "duration": 776,
    "start_time": "2023-09-24T13:32:05.696Z"
   },
   {
    "duration": 7,
    "start_time": "2023-09-24T13:32:26.001Z"
   },
   {
    "duration": 1562,
    "start_time": "2023-09-24T13:32:27.522Z"
   },
   {
    "duration": 6,
    "start_time": "2023-09-24T13:33:02.702Z"
   },
   {
    "duration": 6,
    "start_time": "2023-09-24T13:33:08.559Z"
   },
   {
    "duration": 481,
    "start_time": "2023-09-24T13:33:10.530Z"
   },
   {
    "duration": 11,
    "start_time": "2023-09-24T13:34:21.459Z"
   },
   {
    "duration": 1097,
    "start_time": "2023-09-24T13:34:27.992Z"
   },
   {
    "duration": 432,
    "start_time": "2023-09-24T13:34:54.680Z"
   },
   {
    "duration": 493,
    "start_time": "2023-09-24T13:35:52.094Z"
   },
   {
    "duration": 610,
    "start_time": "2023-09-24T13:36:06.187Z"
   },
   {
    "duration": 448,
    "start_time": "2023-09-24T13:36:20.071Z"
   },
   {
    "duration": 484,
    "start_time": "2023-09-24T13:37:15.121Z"
   },
   {
    "duration": 438,
    "start_time": "2023-09-24T13:37:19.427Z"
   },
   {
    "duration": 15,
    "start_time": "2023-09-24T13:43:02.910Z"
   },
   {
    "duration": 328,
    "start_time": "2023-09-24T13:45:38.205Z"
   },
   {
    "duration": 196,
    "start_time": "2023-09-24T13:48:18.336Z"
   },
   {
    "duration": 187,
    "start_time": "2023-09-24T13:48:24.393Z"
   },
   {
    "duration": 190,
    "start_time": "2023-09-24T13:52:08.005Z"
   },
   {
    "duration": 464,
    "start_time": "2023-09-24T13:53:08.148Z"
   },
   {
    "duration": 452,
    "start_time": "2023-09-24T13:53:23.590Z"
   },
   {
    "duration": 9,
    "start_time": "2023-09-24T13:58:41.323Z"
   },
   {
    "duration": 407,
    "start_time": "2023-09-24T13:58:43.114Z"
   },
   {
    "duration": 12,
    "start_time": "2023-09-24T15:29:57.513Z"
   },
   {
    "duration": 485,
    "start_time": "2023-09-24T15:30:36.528Z"
   },
   {
    "duration": 6,
    "start_time": "2023-09-24T15:33:22.042Z"
   },
   {
    "duration": 428,
    "start_time": "2023-09-24T15:33:24.503Z"
   },
   {
    "duration": 5,
    "start_time": "2023-09-24T15:34:39.787Z"
   },
   {
    "duration": 9,
    "start_time": "2023-09-24T15:36:23.961Z"
   },
   {
    "duration": 9,
    "start_time": "2023-09-24T15:36:28.395Z"
   },
   {
    "duration": 12,
    "start_time": "2023-09-24T15:42:46.082Z"
   },
   {
    "duration": 15,
    "start_time": "2023-09-24T15:42:51.098Z"
   },
   {
    "duration": 11,
    "start_time": "2023-09-24T15:43:01.052Z"
   },
   {
    "duration": 12,
    "start_time": "2023-09-24T15:44:15.580Z"
   },
   {
    "duration": 9,
    "start_time": "2023-09-24T15:45:26.268Z"
   },
   {
    "duration": 4,
    "start_time": "2023-09-24T15:45:43.593Z"
   },
   {
    "duration": 11,
    "start_time": "2023-09-24T15:46:12.689Z"
   },
   {
    "duration": 459,
    "start_time": "2023-09-24T15:46:26.456Z"
   },
   {
    "duration": 8,
    "start_time": "2023-09-24T15:46:29.392Z"
   },
   {
    "duration": 5,
    "start_time": "2023-09-24T15:46:38.569Z"
   },
   {
    "duration": 7,
    "start_time": "2023-09-24T15:46:46.114Z"
   },
   {
    "duration": 4,
    "start_time": "2023-09-24T15:47:10.431Z"
   },
   {
    "duration": 4,
    "start_time": "2023-09-24T15:47:14.545Z"
   },
   {
    "duration": 491,
    "start_time": "2023-09-24T15:47:14.551Z"
   },
   {
    "duration": 15,
    "start_time": "2023-09-24T15:47:15.044Z"
   },
   {
    "duration": 30,
    "start_time": "2023-09-24T15:47:15.060Z"
   },
   {
    "duration": 17,
    "start_time": "2023-09-24T15:47:15.094Z"
   },
   {
    "duration": 71,
    "start_time": "2023-09-24T15:47:15.113Z"
   },
   {
    "duration": 667,
    "start_time": "2023-09-24T15:47:15.186Z"
   },
   {
    "duration": 497,
    "start_time": "2023-09-24T15:47:15.855Z"
   },
   {
    "duration": 507,
    "start_time": "2023-09-24T15:47:16.354Z"
   },
   {
    "duration": 25,
    "start_time": "2023-09-24T15:47:16.863Z"
   },
   {
    "duration": 175,
    "start_time": "2023-09-24T15:47:16.890Z"
   },
   {
    "duration": 8,
    "start_time": "2023-09-24T15:47:17.067Z"
   },
   {
    "duration": 433,
    "start_time": "2023-09-24T15:47:17.077Z"
   },
   {
    "duration": 81,
    "start_time": "2023-09-24T15:47:17.536Z"
   },
   {
    "duration": 4,
    "start_time": "2023-09-24T15:47:17.627Z"
   },
   {
    "duration": 17,
    "start_time": "2023-09-24T15:47:17.634Z"
   },
   {
    "duration": 18,
    "start_time": "2023-09-24T15:47:17.654Z"
   },
   {
    "duration": 89,
    "start_time": "2023-09-24T15:47:17.675Z"
   },
   {
    "duration": 9,
    "start_time": "2023-09-24T15:47:35.166Z"
   },
   {
    "duration": 5,
    "start_time": "2023-09-24T15:48:54.558Z"
   },
   {
    "duration": 4,
    "start_time": "2023-09-24T15:49:01.728Z"
   },
   {
    "duration": 6,
    "start_time": "2023-09-24T16:01:31.122Z"
   },
   {
    "duration": 550,
    "start_time": "2023-09-24T16:01:31.130Z"
   },
   {
    "duration": 11,
    "start_time": "2023-09-24T16:01:31.682Z"
   },
   {
    "duration": 164,
    "start_time": "2023-09-24T16:01:31.695Z"
   },
   {
    "duration": 69,
    "start_time": "2023-09-24T16:01:31.862Z"
   },
   {
    "duration": 128,
    "start_time": "2023-09-24T16:01:31.933Z"
   },
   {
    "duration": 603,
    "start_time": "2023-09-24T16:01:32.063Z"
   },
   {
    "duration": 696,
    "start_time": "2023-09-24T16:01:32.669Z"
   },
   {
    "duration": 504,
    "start_time": "2023-09-24T16:01:33.367Z"
   },
   {
    "duration": 58,
    "start_time": "2023-09-24T16:01:33.874Z"
   },
   {
    "duration": 151,
    "start_time": "2023-09-24T16:01:33.934Z"
   },
   {
    "duration": 7,
    "start_time": "2023-09-24T16:01:34.088Z"
   },
   {
    "duration": 420,
    "start_time": "2023-09-24T16:01:34.097Z"
   },
   {
    "duration": 6,
    "start_time": "2023-09-24T16:01:34.526Z"
   },
   {
    "duration": 96,
    "start_time": "2023-09-24T16:01:34.535Z"
   },
   {
    "duration": 14,
    "start_time": "2023-09-24T16:01:34.634Z"
   },
   {
    "duration": 5,
    "start_time": "2023-09-24T16:01:34.650Z"
   },
   {
    "duration": 5,
    "start_time": "2023-09-24T16:01:48.150Z"
   },
   {
    "duration": 3,
    "start_time": "2023-09-24T16:05:09.728Z"
   },
   {
    "duration": 7,
    "start_time": "2023-09-24T16:05:14.865Z"
   },
   {
    "duration": 17,
    "start_time": "2023-09-24T16:05:50.124Z"
   },
   {
    "duration": 12,
    "start_time": "2023-09-24T16:05:59.560Z"
   },
   {
    "duration": 4,
    "start_time": "2023-09-24T16:07:48.924Z"
   },
   {
    "duration": 15,
    "start_time": "2023-09-24T16:11:43.550Z"
   },
   {
    "duration": 8,
    "start_time": "2023-09-24T16:12:14.260Z"
   },
   {
    "duration": 11,
    "start_time": "2023-09-24T16:12:19.787Z"
   },
   {
    "duration": 10,
    "start_time": "2023-09-24T16:12:56.870Z"
   },
   {
    "duration": 18,
    "start_time": "2023-09-24T16:14:03.699Z"
   },
   {
    "duration": 4,
    "start_time": "2023-09-24T16:14:08.330Z"
   },
   {
    "duration": 16,
    "start_time": "2023-09-24T16:14:09.980Z"
   },
   {
    "duration": 8,
    "start_time": "2023-09-24T16:15:01.043Z"
   },
   {
    "duration": 8,
    "start_time": "2023-09-24T16:15:45.657Z"
   },
   {
    "duration": 5,
    "start_time": "2023-09-24T16:15:52.545Z"
   },
   {
    "duration": 16,
    "start_time": "2023-09-24T16:17:24.704Z"
   },
   {
    "duration": 10,
    "start_time": "2023-09-24T16:18:09.437Z"
   },
   {
    "duration": 11,
    "start_time": "2023-09-24T16:18:14.714Z"
   },
   {
    "duration": 5,
    "start_time": "2023-09-24T16:18:18.573Z"
   },
   {
    "duration": 12,
    "start_time": "2023-09-24T16:18:20.410Z"
   },
   {
    "duration": 16,
    "start_time": "2023-09-24T16:19:14.376Z"
   },
   {
    "duration": 14,
    "start_time": "2023-09-24T16:23:36.759Z"
   },
   {
    "duration": 18,
    "start_time": "2023-09-24T16:23:42.694Z"
   },
   {
    "duration": 4,
    "start_time": "2023-09-24T16:24:36.615Z"
   },
   {
    "duration": 14,
    "start_time": "2023-09-24T16:24:38.235Z"
   },
   {
    "duration": 3,
    "start_time": "2023-09-24T16:24:54.864Z"
   },
   {
    "duration": 18,
    "start_time": "2023-09-24T16:24:56.821Z"
   },
   {
    "duration": 4,
    "start_time": "2023-09-24T16:25:01.912Z"
   },
   {
    "duration": 15,
    "start_time": "2023-09-24T16:25:04.265Z"
   },
   {
    "duration": 15,
    "start_time": "2023-09-24T16:25:40.921Z"
   },
   {
    "duration": 4,
    "start_time": "2023-09-24T16:25:53.024Z"
   },
   {
    "duration": 17,
    "start_time": "2023-09-24T16:25:54.819Z"
   },
   {
    "duration": 147,
    "start_time": "2023-09-24T16:27:01.204Z"
   },
   {
    "duration": 14,
    "start_time": "2023-09-24T16:27:11.789Z"
   },
   {
    "duration": 26,
    "start_time": "2023-09-24T16:27:39.656Z"
   },
   {
    "duration": 33,
    "start_time": "2023-09-24T16:27:53.790Z"
   },
   {
    "duration": 233,
    "start_time": "2023-09-24T17:12:25.593Z"
   },
   {
    "duration": 6,
    "start_time": "2023-09-24T17:12:38.170Z"
   },
   {
    "duration": 389,
    "start_time": "2023-09-24T17:12:40.639Z"
   },
   {
    "duration": 4,
    "start_time": "2023-09-24T17:52:27.572Z"
   },
   {
    "duration": 1060,
    "start_time": "2023-09-24T17:52:27.578Z"
   },
   {
    "duration": 16,
    "start_time": "2023-09-24T17:52:28.640Z"
   },
   {
    "duration": 16,
    "start_time": "2023-09-24T17:52:28.659Z"
   },
   {
    "duration": 18,
    "start_time": "2023-09-24T17:52:28.678Z"
   },
   {
    "duration": 62,
    "start_time": "2023-09-24T17:52:28.698Z"
   },
   {
    "duration": 660,
    "start_time": "2023-09-24T17:52:28.762Z"
   },
   {
    "duration": 780,
    "start_time": "2023-09-24T17:52:29.424Z"
   },
   {
    "duration": 567,
    "start_time": "2023-09-24T17:52:30.209Z"
   },
   {
    "duration": 57,
    "start_time": "2023-09-24T17:52:30.780Z"
   },
   {
    "duration": 194,
    "start_time": "2023-09-24T17:52:30.840Z"
   },
   {
    "duration": 8,
    "start_time": "2023-09-24T17:52:31.036Z"
   },
   {
    "duration": 374,
    "start_time": "2023-09-24T17:52:31.046Z"
   },
   {
    "duration": 8,
    "start_time": "2023-09-24T17:52:31.426Z"
   },
   {
    "duration": 78,
    "start_time": "2023-09-24T17:52:31.440Z"
   },
   {
    "duration": 53,
    "start_time": "2023-09-24T17:52:31.520Z"
   },
   {
    "duration": 31,
    "start_time": "2023-09-24T17:52:31.575Z"
   },
   {
    "duration": 30,
    "start_time": "2023-09-24T17:52:31.608Z"
   },
   {
    "duration": 55,
    "start_time": "2023-09-24T17:52:31.640Z"
   },
   {
    "duration": 39,
    "start_time": "2023-09-24T17:52:31.698Z"
   },
   {
    "duration": 42,
    "start_time": "2023-09-24T17:53:20.531Z"
   },
   {
    "duration": 10,
    "start_time": "2023-09-24T17:53:36.504Z"
   },
   {
    "duration": 18,
    "start_time": "2023-09-24T17:53:39.669Z"
   },
   {
    "duration": 7,
    "start_time": "2023-09-24T17:54:09.339Z"
   },
   {
    "duration": 30,
    "start_time": "2023-09-24T17:54:11.336Z"
   },
   {
    "duration": 4,
    "start_time": "2023-09-24T17:54:20.367Z"
   },
   {
    "duration": 34,
    "start_time": "2023-09-24T17:54:22.451Z"
   },
   {
    "duration": 25,
    "start_time": "2023-09-24T17:55:33.879Z"
   },
   {
    "duration": 3,
    "start_time": "2023-09-24T18:02:33.842Z"
   },
   {
    "duration": 3,
    "start_time": "2023-09-24T18:10:30.349Z"
   },
   {
    "duration": 35,
    "start_time": "2023-09-24T18:11:10.639Z"
   },
   {
    "duration": 8,
    "start_time": "2023-09-24T18:21:53.615Z"
   },
   {
    "duration": 29,
    "start_time": "2023-09-24T18:21:57.113Z"
   },
   {
    "duration": 4,
    "start_time": "2023-09-24T18:22:11.232Z"
   },
   {
    "duration": 18,
    "start_time": "2023-09-24T18:22:13.019Z"
   },
   {
    "duration": 3,
    "start_time": "2023-09-24T18:22:27.073Z"
   },
   {
    "duration": 11,
    "start_time": "2023-09-24T18:22:29.668Z"
   },
   {
    "duration": 4,
    "start_time": "2023-09-24T18:23:04.188Z"
   },
   {
    "duration": 85,
    "start_time": "2023-09-24T18:23:05.834Z"
   },
   {
    "duration": 9,
    "start_time": "2023-09-24T18:23:09.375Z"
   },
   {
    "duration": 10,
    "start_time": "2023-09-24T18:23:21.672Z"
   },
   {
    "duration": 15,
    "start_time": "2023-09-24T18:23:28.425Z"
   },
   {
    "duration": 15,
    "start_time": "2023-09-24T18:25:01.222Z"
   },
   {
    "duration": 19,
    "start_time": "2023-09-24T18:25:50.969Z"
   },
   {
    "duration": 17,
    "start_time": "2023-09-24T18:33:09.704Z"
   },
   {
    "duration": 19,
    "start_time": "2023-09-24T18:34:43.102Z"
   },
   {
    "duration": 18,
    "start_time": "2023-09-24T18:35:06.010Z"
   },
   {
    "duration": 12,
    "start_time": "2023-09-24T18:35:18.644Z"
   },
   {
    "duration": 2028,
    "start_time": "2023-09-24T18:35:36.199Z"
   },
   {
    "duration": 1721,
    "start_time": "2023-09-24T18:36:44.740Z"
   },
   {
    "duration": 1714,
    "start_time": "2023-09-24T18:37:10.172Z"
   },
   {
    "duration": 3485,
    "start_time": "2023-09-24T18:37:48.104Z"
   },
   {
    "duration": 1753,
    "start_time": "2023-09-24T18:38:55.072Z"
   },
   {
    "duration": 1683,
    "start_time": "2023-09-24T18:38:57.390Z"
   },
   {
    "duration": 3301,
    "start_time": "2023-09-24T18:39:00.637Z"
   },
   {
    "duration": 107,
    "start_time": "2023-09-24T19:10:48.432Z"
   },
   {
    "duration": 7,
    "start_time": "2023-09-24T19:12:22.521Z"
   },
   {
    "duration": 15,
    "start_time": "2023-09-24T19:14:10.295Z"
   },
   {
    "duration": 7,
    "start_time": "2023-09-24T19:14:28.724Z"
   },
   {
    "duration": 16,
    "start_time": "2023-09-24T19:14:30.675Z"
   },
   {
    "duration": 9,
    "start_time": "2023-09-24T19:16:05.207Z"
   },
   {
    "duration": 16,
    "start_time": "2023-09-24T19:16:07.085Z"
   },
   {
    "duration": 5,
    "start_time": "2023-09-24T19:16:34.738Z"
   },
   {
    "duration": 16,
    "start_time": "2023-09-24T19:16:36.534Z"
   },
   {
    "duration": 8,
    "start_time": "2023-09-24T19:16:50.609Z"
   },
   {
    "duration": 21,
    "start_time": "2023-09-24T19:16:52.456Z"
   },
   {
    "duration": 1410,
    "start_time": "2023-09-25T16:29:37.791Z"
   },
   {
    "duration": 1826,
    "start_time": "2023-09-25T16:29:39.204Z"
   },
   {
    "duration": 15,
    "start_time": "2023-09-25T16:29:41.032Z"
   },
   {
    "duration": 12,
    "start_time": "2023-09-25T16:29:41.048Z"
   },
   {
    "duration": 29,
    "start_time": "2023-09-25T16:29:41.062Z"
   },
   {
    "duration": 43,
    "start_time": "2023-09-25T16:29:41.092Z"
   },
   {
    "duration": 421,
    "start_time": "2023-09-25T16:29:41.137Z"
   },
   {
    "duration": 486,
    "start_time": "2023-09-25T16:29:41.560Z"
   },
   {
    "duration": 415,
    "start_time": "2023-09-25T16:29:42.047Z"
   },
   {
    "duration": 21,
    "start_time": "2023-09-25T16:29:42.463Z"
   },
   {
    "duration": 126,
    "start_time": "2023-09-25T16:29:42.486Z"
   },
   {
    "duration": 5,
    "start_time": "2023-09-25T16:29:42.614Z"
   },
   {
    "duration": 446,
    "start_time": "2023-09-25T16:29:42.620Z"
   },
   {
    "duration": 80,
    "start_time": "2023-09-25T16:29:43.070Z"
   },
   {
    "duration": 92,
    "start_time": "2023-09-25T16:29:43.153Z"
   },
   {
    "duration": 23,
    "start_time": "2023-09-25T16:29:43.247Z"
   },
   {
    "duration": 13,
    "start_time": "2023-09-25T16:29:43.272Z"
   },
   {
    "duration": 33,
    "start_time": "2023-09-25T16:29:43.286Z"
   },
   {
    "duration": 8,
    "start_time": "2023-09-25T16:29:43.321Z"
   },
   {
    "duration": 113,
    "start_time": "2023-09-25T16:29:43.330Z"
   },
   {
    "duration": 0,
    "start_time": "2023-09-25T16:29:43.444Z"
   },
   {
    "duration": 0,
    "start_time": "2023-09-25T16:29:43.446Z"
   },
   {
    "duration": 0,
    "start_time": "2023-09-25T16:29:43.446Z"
   },
   {
    "duration": 5,
    "start_time": "2023-09-25T17:15:36.810Z"
   },
   {
    "duration": 482,
    "start_time": "2023-09-25T17:15:36.818Z"
   },
   {
    "duration": 9,
    "start_time": "2023-09-25T17:15:37.302Z"
   },
   {
    "duration": 13,
    "start_time": "2023-09-25T17:15:37.312Z"
   },
   {
    "duration": 21,
    "start_time": "2023-09-25T17:15:37.327Z"
   },
   {
    "duration": 59,
    "start_time": "2023-09-25T17:15:37.351Z"
   },
   {
    "duration": 466,
    "start_time": "2023-09-25T17:15:37.411Z"
   },
   {
    "duration": 436,
    "start_time": "2023-09-25T17:15:37.879Z"
   },
   {
    "duration": 584,
    "start_time": "2023-09-25T17:15:38.317Z"
   },
   {
    "duration": 21,
    "start_time": "2023-09-25T17:15:38.902Z"
   },
   {
    "duration": 140,
    "start_time": "2023-09-25T17:15:38.945Z"
   },
   {
    "duration": 5,
    "start_time": "2023-09-25T17:15:39.087Z"
   },
   {
    "duration": 551,
    "start_time": "2023-09-25T17:15:39.094Z"
   },
   {
    "duration": 4,
    "start_time": "2023-09-25T17:15:39.647Z"
   },
   {
    "duration": 7,
    "start_time": "2023-09-25T17:15:39.653Z"
   },
   {
    "duration": 83,
    "start_time": "2023-09-25T17:15:39.663Z"
   },
   {
    "duration": 10,
    "start_time": "2023-09-25T17:15:39.752Z"
   },
   {
    "duration": 27,
    "start_time": "2023-09-25T17:15:39.764Z"
   },
   {
    "duration": 7,
    "start_time": "2023-09-25T17:15:39.795Z"
   },
   {
    "duration": 21,
    "start_time": "2023-09-25T17:15:39.804Z"
   },
   {
    "duration": 0,
    "start_time": "2023-09-25T17:15:39.844Z"
   },
   {
    "duration": 0,
    "start_time": "2023-09-25T17:15:39.845Z"
   },
   {
    "duration": 0,
    "start_time": "2023-09-25T17:15:39.846Z"
   },
   {
    "duration": 4,
    "start_time": "2023-09-25T17:15:57.501Z"
   },
   {
    "duration": 19,
    "start_time": "2023-09-25T17:15:59.280Z"
   },
   {
    "duration": 4,
    "start_time": "2023-09-25T17:24:20.734Z"
   },
   {
    "duration": 5,
    "start_time": "2023-09-25T17:24:23.105Z"
   },
   {
    "duration": 14,
    "start_time": "2023-09-25T17:24:25.496Z"
   },
   {
    "duration": 5,
    "start_time": "2023-09-25T17:24:48.104Z"
   },
   {
    "duration": 7,
    "start_time": "2023-09-25T17:24:50.272Z"
   },
   {
    "duration": 4005,
    "start_time": "2023-09-25T17:24:52.324Z"
   },
   {
    "duration": 3,
    "start_time": "2023-09-25T17:28:42.292Z"
   },
   {
    "duration": 9,
    "start_time": "2023-09-25T17:28:58.268Z"
   },
   {
    "duration": 4324,
    "start_time": "2023-09-25T17:29:01.216Z"
   },
   {
    "duration": 9,
    "start_time": "2023-09-25T17:29:20.404Z"
   },
   {
    "duration": 19,
    "start_time": "2023-09-25T17:29:49.700Z"
   },
   {
    "duration": 4,
    "start_time": "2023-09-25T17:31:31.927Z"
   },
   {
    "duration": 13,
    "start_time": "2023-09-25T17:31:34.579Z"
   },
   {
    "duration": 6,
    "start_time": "2023-09-25T17:31:49.710Z"
   },
   {
    "duration": 20,
    "start_time": "2023-09-25T17:31:51.501Z"
   },
   {
    "duration": 4,
    "start_time": "2023-09-25T17:36:03.874Z"
   },
   {
    "duration": 4,
    "start_time": "2023-09-25T17:50:27.477Z"
   },
   {
    "duration": 428,
    "start_time": "2023-09-25T17:50:27.483Z"
   },
   {
    "duration": 9,
    "start_time": "2023-09-25T17:50:27.913Z"
   },
   {
    "duration": 10,
    "start_time": "2023-09-25T17:50:27.923Z"
   },
   {
    "duration": 28,
    "start_time": "2023-09-25T17:50:27.945Z"
   },
   {
    "duration": 53,
    "start_time": "2023-09-25T17:50:27.975Z"
   },
   {
    "duration": 475,
    "start_time": "2023-09-25T17:50:28.030Z"
   },
   {
    "duration": 434,
    "start_time": "2023-09-25T17:50:28.507Z"
   },
   {
    "duration": 463,
    "start_time": "2023-09-25T17:50:28.949Z"
   },
   {
    "duration": 34,
    "start_time": "2023-09-25T17:50:29.414Z"
   },
   {
    "duration": 138,
    "start_time": "2023-09-25T17:50:29.453Z"
   },
   {
    "duration": 5,
    "start_time": "2023-09-25T17:50:29.593Z"
   },
   {
    "duration": 364,
    "start_time": "2023-09-25T17:50:29.600Z"
   },
   {
    "duration": 71,
    "start_time": "2023-09-25T17:50:29.974Z"
   },
   {
    "duration": 104,
    "start_time": "2023-09-25T17:50:30.047Z"
   },
   {
    "duration": 156,
    "start_time": "2023-09-25T17:50:30.152Z"
   },
   {
    "duration": 66,
    "start_time": "2023-09-25T17:50:30.310Z"
   },
   {
    "duration": 61,
    "start_time": "2023-09-25T17:50:30.377Z"
   },
   {
    "duration": 79,
    "start_time": "2023-09-25T17:50:30.440Z"
   },
   {
    "duration": 82,
    "start_time": "2023-09-25T17:50:30.521Z"
   },
   {
    "duration": 0,
    "start_time": "2023-09-25T17:50:30.605Z"
   },
   {
    "duration": 0,
    "start_time": "2023-09-25T17:50:30.606Z"
   },
   {
    "duration": 0,
    "start_time": "2023-09-25T17:50:30.607Z"
   },
   {
    "duration": 10,
    "start_time": "2023-09-25T17:51:41.622Z"
   },
   {
    "duration": 5,
    "start_time": "2023-09-25T17:54:40.484Z"
   },
   {
    "duration": 10,
    "start_time": "2023-09-25T17:54:44.974Z"
   },
   {
    "duration": 27,
    "start_time": "2023-09-25T17:55:02.170Z"
   },
   {
    "duration": 4,
    "start_time": "2023-09-25T17:55:51.384Z"
   },
   {
    "duration": 2,
    "start_time": "2023-09-25T17:56:15.590Z"
   },
   {
    "duration": 6,
    "start_time": "2023-09-25T17:56:20.283Z"
   },
   {
    "duration": 6,
    "start_time": "2023-09-25T17:56:47.223Z"
   },
   {
    "duration": 17,
    "start_time": "2023-09-25T17:56:51.879Z"
   },
   {
    "duration": 6,
    "start_time": "2023-09-25T17:57:16.504Z"
   },
   {
    "duration": 6,
    "start_time": "2023-09-25T18:06:15.024Z"
   },
   {
    "duration": 9,
    "start_time": "2023-09-25T18:06:37.971Z"
   },
   {
    "duration": 6,
    "start_time": "2023-09-25T18:11:07.277Z"
   },
   {
    "duration": 146,
    "start_time": "2023-09-25T18:11:09.524Z"
   },
   {
    "duration": 14,
    "start_time": "2023-09-25T18:13:10.662Z"
   },
   {
    "duration": 342,
    "start_time": "2023-09-25T18:13:42.303Z"
   },
   {
    "duration": 433,
    "start_time": "2023-09-25T18:13:51.322Z"
   },
   {
    "duration": 415,
    "start_time": "2023-09-25T18:14:03.572Z"
   },
   {
    "duration": 13,
    "start_time": "2023-09-25T18:15:47.802Z"
   },
   {
    "duration": 378,
    "start_time": "2023-09-25T18:16:10.475Z"
   },
   {
    "duration": 8,
    "start_time": "2023-09-25T18:19:14.741Z"
   },
   {
    "duration": 21,
    "start_time": "2023-09-25T18:19:18.281Z"
   },
   {
    "duration": 6,
    "start_time": "2023-09-25T18:19:34.990Z"
   },
   {
    "duration": 478,
    "start_time": "2023-09-25T18:19:34.999Z"
   },
   {
    "duration": 11,
    "start_time": "2023-09-25T18:19:35.479Z"
   },
   {
    "duration": 114,
    "start_time": "2023-09-25T18:19:35.491Z"
   },
   {
    "duration": 57,
    "start_time": "2023-09-25T18:19:35.607Z"
   },
   {
    "duration": 61,
    "start_time": "2023-09-25T18:19:35.667Z"
   },
   {
    "duration": 451,
    "start_time": "2023-09-25T18:19:35.730Z"
   },
   {
    "duration": 479,
    "start_time": "2023-09-25T18:19:36.183Z"
   },
   {
    "duration": 460,
    "start_time": "2023-09-25T18:19:36.670Z"
   },
   {
    "duration": 51,
    "start_time": "2023-09-25T18:19:37.132Z"
   },
   {
    "duration": 129,
    "start_time": "2023-09-25T18:19:37.185Z"
   },
   {
    "duration": 7,
    "start_time": "2023-09-25T18:19:37.316Z"
   },
   {
    "duration": 473,
    "start_time": "2023-09-25T18:19:37.325Z"
   },
   {
    "duration": 528,
    "start_time": "2023-09-25T18:19:37.856Z"
   },
   {
    "duration": 4,
    "start_time": "2023-09-25T18:19:38.387Z"
   },
   {
    "duration": 79,
    "start_time": "2023-09-25T18:19:38.392Z"
   },
   {
    "duration": 68,
    "start_time": "2023-09-25T18:19:38.480Z"
   },
   {
    "duration": 21,
    "start_time": "2023-09-25T18:19:38.555Z"
   },
   {
    "duration": 36,
    "start_time": "2023-09-25T18:19:38.578Z"
   },
   {
    "duration": 0,
    "start_time": "2023-09-25T18:19:38.616Z"
   },
   {
    "duration": 0,
    "start_time": "2023-09-25T18:19:38.617Z"
   },
   {
    "duration": 0,
    "start_time": "2023-09-25T18:19:38.618Z"
   },
   {
    "duration": 0,
    "start_time": "2023-09-25T18:19:38.618Z"
   },
   {
    "duration": 0,
    "start_time": "2023-09-25T18:19:38.619Z"
   },
   {
    "duration": 0,
    "start_time": "2023-09-25T18:19:38.621Z"
   },
   {
    "duration": 0,
    "start_time": "2023-09-25T18:19:38.622Z"
   },
   {
    "duration": 0,
    "start_time": "2023-09-25T18:19:38.623Z"
   },
   {
    "duration": 4,
    "start_time": "2023-09-25T18:21:46.123Z"
   },
   {
    "duration": 3,
    "start_time": "2023-09-25T18:22:19.617Z"
   },
   {
    "duration": 4,
    "start_time": "2023-09-25T18:22:22.469Z"
   },
   {
    "duration": 33,
    "start_time": "2023-09-25T18:23:51.228Z"
   },
   {
    "duration": 6,
    "start_time": "2023-09-25T18:26:48.721Z"
   },
   {
    "duration": 18,
    "start_time": "2023-09-25T18:26:55.340Z"
   },
   {
    "duration": 1646,
    "start_time": "2023-09-27T12:09:25.337Z"
   },
   {
    "duration": 1729,
    "start_time": "2023-09-27T12:09:26.986Z"
   },
   {
    "duration": 16,
    "start_time": "2023-09-27T12:09:28.717Z"
   },
   {
    "duration": 24,
    "start_time": "2023-09-27T12:09:28.735Z"
   },
   {
    "duration": 42,
    "start_time": "2023-09-27T12:09:28.760Z"
   },
   {
    "duration": 72,
    "start_time": "2023-09-27T12:09:28.804Z"
   },
   {
    "duration": 559,
    "start_time": "2023-09-27T12:09:28.878Z"
   },
   {
    "duration": 565,
    "start_time": "2023-09-27T12:09:29.439Z"
   },
   {
    "duration": 451,
    "start_time": "2023-09-27T12:09:30.005Z"
   },
   {
    "duration": 24,
    "start_time": "2023-09-27T12:09:30.459Z"
   },
   {
    "duration": 172,
    "start_time": "2023-09-27T12:09:30.484Z"
   },
   {
    "duration": 6,
    "start_time": "2023-09-27T12:09:30.658Z"
   },
   {
    "duration": 592,
    "start_time": "2023-09-27T12:09:30.665Z"
   },
   {
    "duration": 525,
    "start_time": "2023-09-27T12:09:31.259Z"
   },
   {
    "duration": 4,
    "start_time": "2023-09-27T12:09:31.858Z"
   },
   {
    "duration": 213,
    "start_time": "2023-09-27T12:09:31.865Z"
   },
   {
    "duration": 0,
    "start_time": "2023-09-27T12:09:32.080Z"
   },
   {
    "duration": 0,
    "start_time": "2023-09-27T12:09:32.082Z"
   },
   {
    "duration": 0,
    "start_time": "2023-09-27T12:09:32.083Z"
   },
   {
    "duration": 0,
    "start_time": "2023-09-27T12:09:32.084Z"
   },
   {
    "duration": 0,
    "start_time": "2023-09-27T12:09:32.085Z"
   },
   {
    "duration": 0,
    "start_time": "2023-09-27T12:09:32.087Z"
   },
   {
    "duration": 0,
    "start_time": "2023-09-27T12:09:32.088Z"
   },
   {
    "duration": 0,
    "start_time": "2023-09-27T12:09:32.089Z"
   },
   {
    "duration": 0,
    "start_time": "2023-09-27T12:09:32.091Z"
   },
   {
    "duration": 0,
    "start_time": "2023-09-27T12:09:32.092Z"
   },
   {
    "duration": 0,
    "start_time": "2023-09-27T12:09:32.093Z"
   },
   {
    "duration": 0,
    "start_time": "2023-09-27T12:09:32.094Z"
   },
   {
    "duration": 0,
    "start_time": "2023-09-27T12:09:32.095Z"
   },
   {
    "duration": 1467,
    "start_time": "2023-09-27T15:34:36.965Z"
   },
   {
    "duration": 807,
    "start_time": "2023-09-27T15:34:38.436Z"
   },
   {
    "duration": 17,
    "start_time": "2023-09-27T15:34:39.244Z"
   },
   {
    "duration": 11,
    "start_time": "2023-09-27T15:34:39.263Z"
   },
   {
    "duration": 15,
    "start_time": "2023-09-27T15:34:39.277Z"
   },
   {
    "duration": 41,
    "start_time": "2023-09-27T15:34:39.294Z"
   },
   {
    "duration": 396,
    "start_time": "2023-09-27T15:34:39.350Z"
   },
   {
    "duration": 445,
    "start_time": "2023-09-27T15:34:39.749Z"
   },
   {
    "duration": 395,
    "start_time": "2023-09-27T15:34:40.195Z"
   },
   {
    "duration": 21,
    "start_time": "2023-09-27T15:34:40.591Z"
   },
   {
    "duration": 128,
    "start_time": "2023-09-27T15:34:40.614Z"
   },
   {
    "duration": 5,
    "start_time": "2023-09-27T15:34:40.749Z"
   },
   {
    "duration": 500,
    "start_time": "2023-09-27T15:34:40.756Z"
   },
   {
    "duration": 513,
    "start_time": "2023-09-27T15:34:41.260Z"
   },
   {
    "duration": 75,
    "start_time": "2023-09-27T15:34:41.775Z"
   },
   {
    "duration": 162,
    "start_time": "2023-09-27T15:34:41.853Z"
   },
   {
    "duration": 0,
    "start_time": "2023-09-27T15:34:42.016Z"
   },
   {
    "duration": 0,
    "start_time": "2023-09-27T15:34:42.017Z"
   },
   {
    "duration": 0,
    "start_time": "2023-09-27T15:34:42.018Z"
   },
   {
    "duration": 0,
    "start_time": "2023-09-27T15:34:42.020Z"
   },
   {
    "duration": 0,
    "start_time": "2023-09-27T15:34:42.021Z"
   },
   {
    "duration": 0,
    "start_time": "2023-09-27T15:34:42.021Z"
   },
   {
    "duration": 0,
    "start_time": "2023-09-27T15:34:42.023Z"
   },
   {
    "duration": 0,
    "start_time": "2023-09-27T15:34:42.024Z"
   },
   {
    "duration": 0,
    "start_time": "2023-09-27T15:34:42.025Z"
   },
   {
    "duration": 0,
    "start_time": "2023-09-27T15:34:42.026Z"
   },
   {
    "duration": 0,
    "start_time": "2023-09-27T15:34:42.027Z"
   },
   {
    "duration": 0,
    "start_time": "2023-09-27T15:34:42.028Z"
   },
   {
    "duration": 0,
    "start_time": "2023-09-27T15:34:42.049Z"
   },
   {
    "duration": 2,
    "start_time": "2023-09-27T15:34:56.802Z"
   },
   {
    "duration": 9,
    "start_time": "2023-09-27T15:34:58.868Z"
   },
   {
    "duration": 5,
    "start_time": "2023-09-27T15:35:11.523Z"
   },
   {
    "duration": 4,
    "start_time": "2023-09-27T15:35:17.097Z"
   },
   {
    "duration": 8,
    "start_time": "2023-09-27T15:35:19.154Z"
   },
   {
    "duration": 9,
    "start_time": "2023-09-27T15:35:45.793Z"
   },
   {
    "duration": 3,
    "start_time": "2023-09-27T15:35:50.782Z"
   },
   {
    "duration": 8,
    "start_time": "2023-09-27T15:35:52.166Z"
   },
   {
    "duration": 377,
    "start_time": "2023-09-27T15:36:25.187Z"
   },
   {
    "duration": 16,
    "start_time": "2023-09-27T15:36:32.628Z"
   },
   {
    "duration": 3,
    "start_time": "2023-09-27T15:36:54.295Z"
   },
   {
    "duration": 14,
    "start_time": "2023-09-27T15:36:56.357Z"
   },
   {
    "duration": 424,
    "start_time": "2023-09-27T15:37:14.144Z"
   },
   {
    "duration": 20,
    "start_time": "2023-09-27T15:37:17.582Z"
   },
   {
    "duration": 4,
    "start_time": "2023-09-27T15:37:43.321Z"
   },
   {
    "duration": 15,
    "start_time": "2023-09-27T15:37:45.999Z"
   },
   {
    "duration": 4,
    "start_time": "2023-09-27T15:38:19.273Z"
   },
   {
    "duration": 12,
    "start_time": "2023-09-27T15:38:21.369Z"
   },
   {
    "duration": 6,
    "start_time": "2023-09-27T15:39:24.498Z"
   },
   {
    "duration": 7,
    "start_time": "2023-09-27T15:39:32.020Z"
   },
   {
    "duration": 4,
    "start_time": "2023-09-27T15:42:49.637Z"
   },
   {
    "duration": 923,
    "start_time": "2023-09-27T15:42:54.374Z"
   },
   {
    "duration": 5,
    "start_time": "2023-09-27T15:43:07.505Z"
   },
   {
    "duration": 1027,
    "start_time": "2023-09-27T15:43:14.361Z"
   },
   {
    "duration": 5,
    "start_time": "2023-09-27T15:44:27.940Z"
   },
   {
    "duration": 967,
    "start_time": "2023-09-27T15:44:31.744Z"
   },
   {
    "duration": 6,
    "start_time": "2023-09-27T15:44:58.004Z"
   },
   {
    "duration": 930,
    "start_time": "2023-09-27T15:45:02.759Z"
   },
   {
    "duration": 4,
    "start_time": "2023-09-27T15:47:22.532Z"
   },
   {
    "duration": 948,
    "start_time": "2023-09-27T15:47:26.235Z"
   },
   {
    "duration": 4,
    "start_time": "2023-09-27T15:48:03.912Z"
   },
   {
    "duration": 4,
    "start_time": "2023-09-27T15:48:12.544Z"
   },
   {
    "duration": 911,
    "start_time": "2023-09-27T15:48:17.081Z"
   },
   {
    "duration": 10,
    "start_time": "2023-09-27T15:53:07.434Z"
   },
   {
    "duration": 2737,
    "start_time": "2023-09-27T15:53:22.163Z"
   },
   {
    "duration": 2704,
    "start_time": "2023-09-27T15:56:01.413Z"
   },
   {
    "duration": 5,
    "start_time": "2023-09-27T15:58:40.648Z"
   },
   {
    "duration": 438,
    "start_time": "2023-09-27T15:58:46.233Z"
   },
   {
    "duration": 8,
    "start_time": "2023-09-27T16:02:23.409Z"
   },
   {
    "duration": 387,
    "start_time": "2023-09-27T16:02:26.684Z"
   },
   {
    "duration": 452,
    "start_time": "2023-09-27T16:03:23.511Z"
   },
   {
    "duration": 411,
    "start_time": "2023-09-27T16:04:27.158Z"
   },
   {
    "duration": 3,
    "start_time": "2023-09-27T16:08:23.031Z"
   },
   {
    "duration": 4,
    "start_time": "2023-09-27T16:10:17.330Z"
   },
   {
    "duration": 410,
    "start_time": "2023-09-27T16:10:17.337Z"
   },
   {
    "duration": 11,
    "start_time": "2023-09-27T16:10:17.748Z"
   },
   {
    "duration": 34,
    "start_time": "2023-09-27T16:10:17.761Z"
   },
   {
    "duration": 31,
    "start_time": "2023-09-27T16:10:17.798Z"
   },
   {
    "duration": 61,
    "start_time": "2023-09-27T16:10:17.831Z"
   },
   {
    "duration": 408,
    "start_time": "2023-09-27T16:10:17.894Z"
   },
   {
    "duration": 407,
    "start_time": "2023-09-27T16:10:18.303Z"
   },
   {
    "duration": 570,
    "start_time": "2023-09-27T16:10:18.712Z"
   },
   {
    "duration": 23,
    "start_time": "2023-09-27T16:10:19.284Z"
   },
   {
    "duration": 143,
    "start_time": "2023-09-27T16:10:19.308Z"
   },
   {
    "duration": 5,
    "start_time": "2023-09-27T16:10:19.453Z"
   },
   {
    "duration": 419,
    "start_time": "2023-09-27T16:10:19.459Z"
   },
   {
    "duration": 523,
    "start_time": "2023-09-27T16:10:19.952Z"
   },
   {
    "duration": 73,
    "start_time": "2023-09-27T16:10:20.478Z"
   },
   {
    "duration": 98,
    "start_time": "2023-09-27T16:10:20.553Z"
   },
   {
    "duration": 11,
    "start_time": "2023-09-27T16:10:20.653Z"
   },
   {
    "duration": 25,
    "start_time": "2023-09-27T16:10:20.666Z"
   },
   {
    "duration": 42,
    "start_time": "2023-09-27T16:10:20.693Z"
   },
   {
    "duration": 18,
    "start_time": "2023-09-27T16:10:20.737Z"
   },
   {
    "duration": 2935,
    "start_time": "2023-09-27T16:10:20.757Z"
   },
   {
    "duration": 11,
    "start_time": "2023-09-27T16:10:23.694Z"
   },
   {
    "duration": 0,
    "start_time": "2023-09-27T16:10:23.707Z"
   },
   {
    "duration": 0,
    "start_time": "2023-09-27T16:10:23.708Z"
   },
   {
    "duration": 6,
    "start_time": "2023-09-27T16:11:22.529Z"
   },
   {
    "duration": 11,
    "start_time": "2023-09-27T16:11:44.085Z"
   },
   {
    "duration": 7,
    "start_time": "2023-09-27T16:11:51.575Z"
   },
   {
    "duration": 6,
    "start_time": "2023-09-27T16:12:08.747Z"
   },
   {
    "duration": 5,
    "start_time": "2023-09-27T16:12:19.835Z"
   },
   {
    "duration": 5,
    "start_time": "2023-09-27T16:12:32.430Z"
   },
   {
    "duration": 5,
    "start_time": "2023-09-27T16:12:39.739Z"
   },
   {
    "duration": 4,
    "start_time": "2023-09-27T16:12:43.251Z"
   },
   {
    "duration": 7,
    "start_time": "2023-09-27T16:13:08.808Z"
   },
   {
    "duration": 5,
    "start_time": "2023-09-27T16:13:22.516Z"
   },
   {
    "duration": 6,
    "start_time": "2023-09-27T16:13:44.331Z"
   },
   {
    "duration": 6,
    "start_time": "2023-09-27T16:14:08.571Z"
   },
   {
    "duration": 5,
    "start_time": "2023-09-27T16:14:21.824Z"
   },
   {
    "duration": 4,
    "start_time": "2023-09-27T16:15:14.505Z"
   },
   {
    "duration": 409,
    "start_time": "2023-09-27T16:15:14.511Z"
   },
   {
    "duration": 10,
    "start_time": "2023-09-27T16:15:14.922Z"
   },
   {
    "duration": 56,
    "start_time": "2023-09-27T16:15:14.935Z"
   },
   {
    "duration": 86,
    "start_time": "2023-09-27T16:15:14.994Z"
   },
   {
    "duration": 117,
    "start_time": "2023-09-27T16:15:15.082Z"
   },
   {
    "duration": 417,
    "start_time": "2023-09-27T16:15:15.201Z"
   },
   {
    "duration": 411,
    "start_time": "2023-09-27T16:15:15.620Z"
   },
   {
    "duration": 451,
    "start_time": "2023-09-27T16:15:16.033Z"
   },
   {
    "duration": 26,
    "start_time": "2023-09-27T16:15:16.486Z"
   },
   {
    "duration": 136,
    "start_time": "2023-09-27T16:15:16.514Z"
   },
   {
    "duration": 8,
    "start_time": "2023-09-27T16:15:16.652Z"
   },
   {
    "duration": 489,
    "start_time": "2023-09-27T16:15:16.662Z"
   },
   {
    "duration": 513,
    "start_time": "2023-09-27T16:15:17.153Z"
   },
   {
    "duration": 82,
    "start_time": "2023-09-27T16:15:17.668Z"
   },
   {
    "duration": 11,
    "start_time": "2023-09-27T16:15:17.753Z"
   },
   {
    "duration": 14,
    "start_time": "2023-09-27T16:15:17.849Z"
   },
   {
    "duration": 16,
    "start_time": "2023-09-27T16:15:17.865Z"
   },
   {
    "duration": 116,
    "start_time": "2023-09-27T16:15:36.252Z"
   },
   {
    "duration": 9,
    "start_time": "2023-09-27T16:16:03.069Z"
   },
   {
    "duration": 5,
    "start_time": "2023-09-27T16:16:09.910Z"
   },
   {
    "duration": 4,
    "start_time": "2023-09-27T16:16:40.217Z"
   },
   {
    "duration": 18,
    "start_time": "2023-09-27T16:16:42.409Z"
   },
   {
    "duration": 4,
    "start_time": "2023-09-27T16:16:54.880Z"
   },
   {
    "duration": 4,
    "start_time": "2023-09-27T16:17:04.158Z"
   },
   {
    "duration": 3,
    "start_time": "2023-09-27T16:17:30.088Z"
   },
   {
    "duration": 5,
    "start_time": "2023-09-27T16:17:32.366Z"
   },
   {
    "duration": 18,
    "start_time": "2023-09-27T16:17:40.209Z"
   },
   {
    "duration": 5,
    "start_time": "2023-09-27T16:17:53.872Z"
   },
   {
    "duration": 3086,
    "start_time": "2023-09-27T16:18:03.884Z"
   },
   {
    "duration": 4,
    "start_time": "2023-09-27T16:50:24.183Z"
   },
   {
    "duration": 5,
    "start_time": "2023-09-27T16:52:32.768Z"
   },
   {
    "duration": 14,
    "start_time": "2023-09-27T16:52:35.024Z"
   },
   {
    "duration": 3,
    "start_time": "2023-09-27T16:52:48.403Z"
   },
   {
    "duration": 3891,
    "start_time": "2023-09-27T16:52:56.065Z"
   },
   {
    "duration": 4,
    "start_time": "2023-09-27T16:54:11.470Z"
   },
   {
    "duration": 6,
    "start_time": "2023-09-27T16:55:20.460Z"
   },
   {
    "duration": 1254,
    "start_time": "2023-09-27T16:55:24.106Z"
   },
   {
    "duration": 4,
    "start_time": "2023-09-27T16:56:12.564Z"
   },
   {
    "duration": 21,
    "start_time": "2023-09-27T16:56:14.380Z"
   },
   {
    "duration": 4,
    "start_time": "2023-09-27T16:57:00.592Z"
   },
   {
    "duration": 3829,
    "start_time": "2023-09-27T16:57:02.218Z"
   },
   {
    "duration": 4019,
    "start_time": "2023-09-27T17:19:30.121Z"
   },
   {
    "duration": 3171,
    "start_time": "2023-09-27T17:40:19.021Z"
   },
   {
    "duration": 947,
    "start_time": "2023-09-27T17:40:22.195Z"
   },
   {
    "duration": 14,
    "start_time": "2023-09-27T17:40:23.146Z"
   },
   {
    "duration": 73,
    "start_time": "2023-09-27T17:40:23.162Z"
   },
   {
    "duration": 20,
    "start_time": "2023-09-27T17:40:23.237Z"
   },
   {
    "duration": 49,
    "start_time": "2023-09-27T17:40:23.259Z"
   },
   {
    "duration": 402,
    "start_time": "2023-09-27T17:40:23.310Z"
   },
   {
    "duration": 475,
    "start_time": "2023-09-27T17:40:23.714Z"
   },
   {
    "duration": 396,
    "start_time": "2023-09-27T17:40:24.191Z"
   },
   {
    "duration": 21,
    "start_time": "2023-09-27T17:40:24.588Z"
   },
   {
    "duration": 136,
    "start_time": "2023-09-27T17:40:24.610Z"
   },
   {
    "duration": 5,
    "start_time": "2023-09-27T17:40:24.749Z"
   },
   {
    "duration": 523,
    "start_time": "2023-09-27T17:40:24.755Z"
   },
   {
    "duration": 605,
    "start_time": "2023-09-27T17:40:25.349Z"
   },
   {
    "duration": 4,
    "start_time": "2023-09-27T17:40:25.956Z"
   },
   {
    "duration": 88,
    "start_time": "2023-09-27T17:40:25.962Z"
   },
   {
    "duration": 15,
    "start_time": "2023-09-27T17:40:26.052Z"
   },
   {
    "duration": 11,
    "start_time": "2023-09-27T17:40:26.070Z"
   },
   {
    "duration": 21,
    "start_time": "2023-09-27T17:40:26.083Z"
   },
   {
    "duration": 6,
    "start_time": "2023-09-27T17:40:26.106Z"
   },
   {
    "duration": 3790,
    "start_time": "2023-09-27T17:40:26.113Z"
   },
   {
    "duration": 1633,
    "start_time": "2023-09-28T10:49:24.682Z"
   },
   {
    "duration": 1784,
    "start_time": "2023-09-28T10:49:26.318Z"
   },
   {
    "duration": 17,
    "start_time": "2023-09-28T10:49:28.104Z"
   },
   {
    "duration": 16,
    "start_time": "2023-09-28T10:49:28.123Z"
   },
   {
    "duration": 43,
    "start_time": "2023-09-28T10:49:28.141Z"
   },
   {
    "duration": 62,
    "start_time": "2023-09-28T10:49:28.186Z"
   },
   {
    "duration": 506,
    "start_time": "2023-09-28T10:49:28.250Z"
   },
   {
    "duration": 625,
    "start_time": "2023-09-28T10:49:28.758Z"
   },
   {
    "duration": 478,
    "start_time": "2023-09-28T10:49:29.385Z"
   },
   {
    "duration": 25,
    "start_time": "2023-09-28T10:49:29.865Z"
   },
   {
    "duration": 181,
    "start_time": "2023-09-28T10:49:29.892Z"
   },
   {
    "duration": 7,
    "start_time": "2023-09-28T10:49:30.075Z"
   },
   {
    "duration": 587,
    "start_time": "2023-09-28T10:49:30.083Z"
   },
   {
    "duration": 498,
    "start_time": "2023-09-28T10:49:30.760Z"
   },
   {
    "duration": 4,
    "start_time": "2023-09-28T10:49:31.261Z"
   },
   {
    "duration": 38,
    "start_time": "2023-09-28T10:49:31.356Z"
   },
   {
    "duration": 30,
    "start_time": "2023-09-28T10:49:31.397Z"
   },
   {
    "duration": 30,
    "start_time": "2023-09-28T10:49:31.430Z"
   },
   {
    "duration": 82,
    "start_time": "2023-09-28T10:49:31.462Z"
   },
   {
    "duration": 66,
    "start_time": "2023-09-28T10:49:31.546Z"
   },
   {
    "duration": 4947,
    "start_time": "2023-09-28T10:49:31.613Z"
   },
   {
    "duration": 22,
    "start_time": "2023-09-28T10:54:56.797Z"
   },
   {
    "duration": 20,
    "start_time": "2023-09-28T10:55:07.841Z"
   },
   {
    "duration": 20,
    "start_time": "2023-09-28T10:56:25.854Z"
   },
   {
    "duration": 7,
    "start_time": "2023-09-28T10:56:31.246Z"
   },
   {
    "duration": 26,
    "start_time": "2023-09-28T10:57:08.470Z"
   },
   {
    "duration": 6,
    "start_time": "2023-09-28T10:57:59.321Z"
   },
   {
    "duration": 53,
    "start_time": "2023-09-28T11:02:52.774Z"
   },
   {
    "duration": 47,
    "start_time": "2023-09-28T11:04:18.688Z"
   },
   {
    "duration": 114,
    "start_time": "2023-09-28T11:07:57.416Z"
   },
   {
    "duration": 42,
    "start_time": "2023-09-28T11:08:19.071Z"
   },
   {
    "duration": 12,
    "start_time": "2023-09-28T11:09:52.333Z"
   },
   {
    "duration": 12,
    "start_time": "2023-09-28T11:10:07.142Z"
   },
   {
    "duration": 11,
    "start_time": "2023-09-28T11:10:15.746Z"
   },
   {
    "duration": 14,
    "start_time": "2023-09-28T11:10:19.862Z"
   },
   {
    "duration": 11,
    "start_time": "2023-09-28T11:11:50.370Z"
   },
   {
    "duration": 12,
    "start_time": "2023-09-28T11:13:29.098Z"
   },
   {
    "duration": 11,
    "start_time": "2023-09-28T11:15:18.463Z"
   },
   {
    "duration": 12,
    "start_time": "2023-09-28T11:16:17.171Z"
   },
   {
    "duration": 10,
    "start_time": "2023-09-28T11:16:34.902Z"
   },
   {
    "duration": 32,
    "start_time": "2023-09-28T11:16:50.609Z"
   },
   {
    "duration": 156,
    "start_time": "2023-09-28T11:17:41.540Z"
   },
   {
    "duration": 131,
    "start_time": "2023-09-28T11:18:16.488Z"
   },
   {
    "duration": 172,
    "start_time": "2023-09-28T11:18:39.331Z"
   },
   {
    "duration": 6,
    "start_time": "2023-09-28T11:18:57.110Z"
   },
   {
    "duration": 503,
    "start_time": "2023-09-28T11:18:57.119Z"
   },
   {
    "duration": 10,
    "start_time": "2023-09-28T11:18:57.624Z"
   },
   {
    "duration": 22,
    "start_time": "2023-09-28T11:18:57.636Z"
   },
   {
    "duration": 25,
    "start_time": "2023-09-28T11:18:57.660Z"
   },
   {
    "duration": 46,
    "start_time": "2023-09-28T11:18:57.687Z"
   },
   {
    "duration": 522,
    "start_time": "2023-09-28T11:18:57.735Z"
   },
   {
    "duration": 486,
    "start_time": "2023-09-28T11:18:58.260Z"
   },
   {
    "duration": 684,
    "start_time": "2023-09-28T11:18:58.748Z"
   },
   {
    "duration": 43,
    "start_time": "2023-09-28T11:18:59.434Z"
   },
   {
    "duration": 171,
    "start_time": "2023-09-28T11:18:59.479Z"
   },
   {
    "duration": 61,
    "start_time": "2023-09-28T11:18:59.657Z"
   },
   {
    "duration": 169,
    "start_time": "2023-09-28T11:18:59.720Z"
   },
   {
    "duration": 6,
    "start_time": "2023-09-28T11:18:59.892Z"
   },
   {
    "duration": 492,
    "start_time": "2023-09-28T11:18:59.900Z"
   },
   {
    "duration": 591,
    "start_time": "2023-09-28T11:19:00.471Z"
   },
   {
    "duration": 88,
    "start_time": "2023-09-28T11:19:01.071Z"
   },
   {
    "duration": 55,
    "start_time": "2023-09-28T11:19:01.161Z"
   },
   {
    "duration": 36,
    "start_time": "2023-09-28T11:19:01.218Z"
   },
   {
    "duration": 51,
    "start_time": "2023-09-28T11:19:01.256Z"
   },
   {
    "duration": 68,
    "start_time": "2023-09-28T11:19:01.309Z"
   },
   {
    "duration": 49,
    "start_time": "2023-09-28T11:19:01.379Z"
   },
   {
    "duration": 4519,
    "start_time": "2023-09-28T11:19:01.430Z"
   },
   {
    "duration": 27,
    "start_time": "2023-09-28T11:27:37.967Z"
   },
   {
    "duration": 33,
    "start_time": "2023-09-28T11:30:25.388Z"
   },
   {
    "duration": 24,
    "start_time": "2023-09-28T11:31:10.068Z"
   },
   {
    "duration": 23,
    "start_time": "2023-09-28T11:31:40.872Z"
   },
   {
    "duration": 17,
    "start_time": "2023-09-28T11:31:43.504Z"
   },
   {
    "duration": 24,
    "start_time": "2023-09-28T11:36:39.534Z"
   },
   {
    "duration": 3,
    "start_time": "2023-09-28T11:41:39.773Z"
   },
   {
    "duration": 6,
    "start_time": "2023-09-28T11:48:57.944Z"
   },
   {
    "duration": 29,
    "start_time": "2023-09-28T11:49:00.997Z"
   },
   {
    "duration": 5,
    "start_time": "2023-09-28T11:49:14.619Z"
   },
   {
    "duration": 27,
    "start_time": "2023-09-28T11:49:18.659Z"
   },
   {
    "duration": 5,
    "start_time": "2023-09-28T11:50:13.725Z"
   },
   {
    "duration": 22,
    "start_time": "2023-09-28T11:50:16.118Z"
   },
   {
    "duration": 4,
    "start_time": "2023-09-28T11:50:23.548Z"
   },
   {
    "duration": 25,
    "start_time": "2023-09-28T11:50:26.286Z"
   },
   {
    "duration": 7,
    "start_time": "2023-09-28T11:52:09.421Z"
   },
   {
    "duration": 28,
    "start_time": "2023-09-28T11:52:31.063Z"
   },
   {
    "duration": 86,
    "start_time": "2023-09-28T11:53:06.949Z"
   },
   {
    "duration": 5,
    "start_time": "2023-09-28T12:04:00.801Z"
   },
   {
    "duration": 140,
    "start_time": "2023-09-28T12:04:00.809Z"
   },
   {
    "duration": 97,
    "start_time": "2023-09-28T12:04:00.951Z"
   },
   {
    "duration": 0,
    "start_time": "2023-09-28T12:04:01.050Z"
   },
   {
    "duration": 0,
    "start_time": "2023-09-28T12:04:01.052Z"
   },
   {
    "duration": 0,
    "start_time": "2023-09-28T12:04:01.053Z"
   },
   {
    "duration": 0,
    "start_time": "2023-09-28T12:04:01.055Z"
   },
   {
    "duration": 0,
    "start_time": "2023-09-28T12:04:01.056Z"
   },
   {
    "duration": 0,
    "start_time": "2023-09-28T12:04:01.057Z"
   },
   {
    "duration": 0,
    "start_time": "2023-09-28T12:04:01.059Z"
   },
   {
    "duration": 0,
    "start_time": "2023-09-28T12:04:01.060Z"
   },
   {
    "duration": 0,
    "start_time": "2023-09-28T12:04:01.061Z"
   },
   {
    "duration": 0,
    "start_time": "2023-09-28T12:04:01.062Z"
   },
   {
    "duration": 0,
    "start_time": "2023-09-28T12:04:01.063Z"
   },
   {
    "duration": 0,
    "start_time": "2023-09-28T12:04:01.064Z"
   },
   {
    "duration": 0,
    "start_time": "2023-09-28T12:04:01.065Z"
   },
   {
    "duration": 0,
    "start_time": "2023-09-28T12:04:01.066Z"
   },
   {
    "duration": 0,
    "start_time": "2023-09-28T12:04:01.068Z"
   },
   {
    "duration": 0,
    "start_time": "2023-09-28T12:04:01.069Z"
   },
   {
    "duration": 0,
    "start_time": "2023-09-28T12:04:01.070Z"
   },
   {
    "duration": 0,
    "start_time": "2023-09-28T12:04:01.071Z"
   },
   {
    "duration": 0,
    "start_time": "2023-09-28T12:04:01.072Z"
   },
   {
    "duration": 0,
    "start_time": "2023-09-28T12:04:01.073Z"
   },
   {
    "duration": 0,
    "start_time": "2023-09-28T12:04:01.074Z"
   },
   {
    "duration": 0,
    "start_time": "2023-09-28T12:04:01.075Z"
   },
   {
    "duration": 0,
    "start_time": "2023-09-28T12:04:01.076Z"
   },
   {
    "duration": 5,
    "start_time": "2023-09-28T12:04:35.253Z"
   },
   {
    "duration": 27,
    "start_time": "2023-09-28T12:04:35.261Z"
   },
   {
    "duration": 93,
    "start_time": "2023-09-28T12:04:35.290Z"
   },
   {
    "duration": 0,
    "start_time": "2023-09-28T12:04:35.385Z"
   },
   {
    "duration": 0,
    "start_time": "2023-09-28T12:04:35.386Z"
   },
   {
    "duration": 0,
    "start_time": "2023-09-28T12:04:35.387Z"
   },
   {
    "duration": 0,
    "start_time": "2023-09-28T12:04:35.389Z"
   },
   {
    "duration": 0,
    "start_time": "2023-09-28T12:04:35.390Z"
   },
   {
    "duration": 0,
    "start_time": "2023-09-28T12:04:35.391Z"
   },
   {
    "duration": 0,
    "start_time": "2023-09-28T12:04:35.392Z"
   },
   {
    "duration": 0,
    "start_time": "2023-09-28T12:04:35.394Z"
   },
   {
    "duration": 0,
    "start_time": "2023-09-28T12:04:35.395Z"
   },
   {
    "duration": 0,
    "start_time": "2023-09-28T12:04:35.396Z"
   },
   {
    "duration": 0,
    "start_time": "2023-09-28T12:04:35.397Z"
   },
   {
    "duration": 0,
    "start_time": "2023-09-28T12:04:35.399Z"
   },
   {
    "duration": 0,
    "start_time": "2023-09-28T12:04:35.400Z"
   },
   {
    "duration": 0,
    "start_time": "2023-09-28T12:04:35.401Z"
   },
   {
    "duration": 0,
    "start_time": "2023-09-28T12:04:35.402Z"
   },
   {
    "duration": 0,
    "start_time": "2023-09-28T12:04:35.404Z"
   },
   {
    "duration": 0,
    "start_time": "2023-09-28T12:04:35.405Z"
   },
   {
    "duration": 0,
    "start_time": "2023-09-28T12:04:35.406Z"
   },
   {
    "duration": 0,
    "start_time": "2023-09-28T12:04:35.407Z"
   },
   {
    "duration": 0,
    "start_time": "2023-09-28T12:04:35.408Z"
   },
   {
    "duration": 0,
    "start_time": "2023-09-28T12:04:35.410Z"
   },
   {
    "duration": 0,
    "start_time": "2023-09-28T12:04:35.411Z"
   },
   {
    "duration": 0,
    "start_time": "2023-09-28T12:04:35.412Z"
   },
   {
    "duration": 93,
    "start_time": "2023-09-28T12:05:16.294Z"
   },
   {
    "duration": 107,
    "start_time": "2023-09-28T12:05:42.020Z"
   },
   {
    "duration": 18,
    "start_time": "2023-09-28T12:05:59.232Z"
   },
   {
    "duration": 18,
    "start_time": "2023-09-28T12:09:49.850Z"
   },
   {
    "duration": 441,
    "start_time": "2023-09-28T12:11:24.809Z"
   },
   {
    "duration": 505,
    "start_time": "2023-09-28T12:24:05.404Z"
   },
   {
    "duration": 500,
    "start_time": "2023-09-28T12:25:05.712Z"
   },
   {
    "duration": 1761,
    "start_time": "2023-09-28T12:25:33.529Z"
   },
   {
    "duration": 9,
    "start_time": "2023-09-28T12:25:35.294Z"
   },
   {
    "duration": 503,
    "start_time": "2023-09-28T12:25:35.305Z"
   },
   {
    "duration": 15,
    "start_time": "2023-09-28T12:25:35.810Z"
   },
   {
    "duration": 32,
    "start_time": "2023-09-28T12:25:35.827Z"
   },
   {
    "duration": 46,
    "start_time": "2023-09-28T12:25:35.862Z"
   },
   {
    "duration": 102,
    "start_time": "2023-09-28T12:25:35.910Z"
   },
   {
    "duration": 523,
    "start_time": "2023-09-28T12:25:36.015Z"
   },
   {
    "duration": 658,
    "start_time": "2023-09-28T12:25:36.540Z"
   },
   {
    "duration": 519,
    "start_time": "2023-09-28T12:25:37.201Z"
   },
   {
    "duration": 39,
    "start_time": "2023-09-28T12:25:37.721Z"
   },
   {
    "duration": 174,
    "start_time": "2023-09-28T12:25:37.763Z"
   },
   {
    "duration": 77,
    "start_time": "2023-09-28T12:25:37.939Z"
   },
   {
    "duration": 183,
    "start_time": "2023-09-28T12:25:38.019Z"
   },
   {
    "duration": 21,
    "start_time": "2023-09-28T12:25:38.205Z"
   },
   {
    "duration": 43,
    "start_time": "2023-09-28T12:25:38.229Z"
   },
   {
    "duration": 21,
    "start_time": "2023-09-28T12:25:38.277Z"
   },
   {
    "duration": 19,
    "start_time": "2023-09-28T12:25:38.300Z"
   },
   {
    "duration": 462,
    "start_time": "2023-09-28T12:25:38.321Z"
   },
   {
    "duration": 702,
    "start_time": "2023-09-28T12:25:38.858Z"
   },
   {
    "duration": 7,
    "start_time": "2023-09-28T12:25:39.571Z"
   },
   {
    "duration": 47,
    "start_time": "2023-09-28T12:25:39.582Z"
   },
   {
    "duration": 42,
    "start_time": "2023-09-28T12:25:39.631Z"
   },
   {
    "duration": 40,
    "start_time": "2023-09-28T12:25:39.676Z"
   },
   {
    "duration": 17,
    "start_time": "2023-09-28T12:25:39.718Z"
   },
   {
    "duration": 4840,
    "start_time": "2023-09-28T12:25:39.737Z"
   },
   {
    "duration": 8,
    "start_time": "2023-09-28T12:27:29.114Z"
   },
   {
    "duration": 4953,
    "start_time": "2023-09-28T12:27:34.418Z"
   },
   {
    "duration": 78,
    "start_time": "2023-09-28T12:35:39.416Z"
   },
   {
    "duration": 85,
    "start_time": "2023-09-28T12:36:05.710Z"
   },
   {
    "duration": 110,
    "start_time": "2023-09-28T12:40:30.421Z"
   },
   {
    "duration": 92,
    "start_time": "2023-09-28T12:40:52.263Z"
   },
   {
    "duration": 27,
    "start_time": "2023-09-28T12:42:19.484Z"
   },
   {
    "duration": 4,
    "start_time": "2023-09-28T12:42:25.358Z"
   },
   {
    "duration": 19,
    "start_time": "2023-09-28T12:42:28.114Z"
   },
   {
    "duration": 21,
    "start_time": "2023-09-28T12:43:13.054Z"
   },
   {
    "duration": 20,
    "start_time": "2023-09-28T12:43:31.030Z"
   },
   {
    "duration": 114,
    "start_time": "2023-09-28T12:43:45.645Z"
   },
   {
    "duration": 26,
    "start_time": "2023-09-28T12:43:55.920Z"
   },
   {
    "duration": 30,
    "start_time": "2023-09-28T12:44:45.710Z"
   },
   {
    "duration": 19,
    "start_time": "2023-09-28T12:45:06.142Z"
   },
   {
    "duration": 5,
    "start_time": "2023-09-28T12:45:15.774Z"
   },
   {
    "duration": 4271,
    "start_time": "2023-09-28T12:45:18.108Z"
   },
   {
    "duration": 1626,
    "start_time": "2023-09-28T12:50:39.741Z"
   },
   {
    "duration": 3,
    "start_time": "2023-09-28T12:50:41.369Z"
   },
   {
    "duration": 471,
    "start_time": "2023-09-28T12:50:41.374Z"
   },
   {
    "duration": 18,
    "start_time": "2023-09-28T12:50:41.847Z"
   },
   {
    "duration": 24,
    "start_time": "2023-09-28T12:50:41.866Z"
   },
   {
    "duration": 15,
    "start_time": "2023-09-28T12:50:41.892Z"
   },
   {
    "duration": 49,
    "start_time": "2023-09-28T12:50:41.909Z"
   },
   {
    "duration": 511,
    "start_time": "2023-09-28T12:50:41.960Z"
   },
   {
    "duration": 597,
    "start_time": "2023-09-28T12:50:42.473Z"
   },
   {
    "duration": 558,
    "start_time": "2023-09-28T12:50:43.073Z"
   },
   {
    "duration": 39,
    "start_time": "2023-09-28T12:50:43.634Z"
   },
   {
    "duration": 172,
    "start_time": "2023-09-28T12:50:43.675Z"
   },
   {
    "duration": 59,
    "start_time": "2023-09-28T12:50:43.855Z"
   },
   {
    "duration": 134,
    "start_time": "2023-09-28T12:50:43.916Z"
   },
   {
    "duration": 19,
    "start_time": "2023-09-28T12:50:44.056Z"
   },
   {
    "duration": 17,
    "start_time": "2023-09-28T12:50:44.077Z"
   },
   {
    "duration": 18,
    "start_time": "2023-09-28T12:50:44.096Z"
   },
   {
    "duration": 43,
    "start_time": "2023-09-28T12:50:44.116Z"
   },
   {
    "duration": 501,
    "start_time": "2023-09-28T12:50:44.161Z"
   },
   {
    "duration": 516,
    "start_time": "2023-09-28T12:50:44.665Z"
   },
   {
    "duration": 3,
    "start_time": "2023-09-28T12:50:45.262Z"
   },
   {
    "duration": 97,
    "start_time": "2023-09-28T12:50:45.268Z"
   },
   {
    "duration": 5,
    "start_time": "2023-09-28T12:50:45.367Z"
   },
   {
    "duration": 25,
    "start_time": "2023-09-28T12:50:45.373Z"
   },
   {
    "duration": 15,
    "start_time": "2023-09-28T12:50:45.401Z"
   },
   {
    "duration": 4556,
    "start_time": "2023-09-28T12:50:45.419Z"
   },
   {
    "duration": 1232,
    "start_time": "2023-09-30T10:13:51.985Z"
   },
   {
    "duration": 3,
    "start_time": "2023-09-30T10:13:53.219Z"
   },
   {
    "duration": 367,
    "start_time": "2023-09-30T10:13:53.223Z"
   },
   {
    "duration": 11,
    "start_time": "2023-09-30T10:13:53.592Z"
   },
   {
    "duration": 17,
    "start_time": "2023-09-30T10:13:53.604Z"
   },
   {
    "duration": 52,
    "start_time": "2023-09-30T10:13:53.622Z"
   },
   {
    "duration": 35,
    "start_time": "2023-09-30T10:13:53.675Z"
   },
   {
    "duration": 375,
    "start_time": "2023-09-30T10:13:53.712Z"
   },
   {
    "duration": 431,
    "start_time": "2023-09-30T10:13:54.090Z"
   },
   {
    "duration": 362,
    "start_time": "2023-09-30T10:13:54.524Z"
   },
   {
    "duration": 20,
    "start_time": "2023-09-30T10:13:54.888Z"
   },
   {
    "duration": 120,
    "start_time": "2023-09-30T10:13:54.910Z"
   },
   {
    "duration": 41,
    "start_time": "2023-09-30T10:13:55.031Z"
   },
   {
    "duration": 117,
    "start_time": "2023-09-30T10:13:55.074Z"
   },
   {
    "duration": 0,
    "start_time": "2023-09-30T10:13:55.193Z"
   },
   {
    "duration": 0,
    "start_time": "2023-09-30T10:13:55.194Z"
   },
   {
    "duration": 0,
    "start_time": "2023-09-30T10:13:55.195Z"
   },
   {
    "duration": 0,
    "start_time": "2023-09-30T10:13:55.196Z"
   },
   {
    "duration": 0,
    "start_time": "2023-09-30T10:13:55.197Z"
   },
   {
    "duration": 0,
    "start_time": "2023-09-30T10:13:55.197Z"
   },
   {
    "duration": 0,
    "start_time": "2023-09-30T10:13:55.198Z"
   },
   {
    "duration": 0,
    "start_time": "2023-09-30T10:13:55.199Z"
   },
   {
    "duration": 0,
    "start_time": "2023-09-30T10:13:55.200Z"
   },
   {
    "duration": 0,
    "start_time": "2023-09-30T10:13:55.201Z"
   },
   {
    "duration": 0,
    "start_time": "2023-09-30T10:13:55.201Z"
   },
   {
    "duration": 0,
    "start_time": "2023-09-30T10:13:55.203Z"
   },
   {
    "duration": 1332,
    "start_time": "2023-09-30T10:14:59.910Z"
   },
   {
    "duration": 3,
    "start_time": "2023-09-30T10:15:01.244Z"
   },
   {
    "duration": 591,
    "start_time": "2023-09-30T10:15:01.249Z"
   },
   {
    "duration": 12,
    "start_time": "2023-09-30T10:15:01.842Z"
   },
   {
    "duration": 36,
    "start_time": "2023-09-30T10:15:01.856Z"
   },
   {
    "duration": 71,
    "start_time": "2023-09-30T10:15:01.894Z"
   },
   {
    "duration": 67,
    "start_time": "2023-09-30T10:15:01.966Z"
   },
   {
    "duration": 392,
    "start_time": "2023-09-30T10:15:02.034Z"
   },
   {
    "duration": 432,
    "start_time": "2023-09-30T10:15:02.428Z"
   },
   {
    "duration": 411,
    "start_time": "2023-09-30T10:15:02.862Z"
   },
   {
    "duration": 34,
    "start_time": "2023-09-30T10:15:03.274Z"
   },
   {
    "duration": 156,
    "start_time": "2023-09-30T10:15:03.310Z"
   },
   {
    "duration": 40,
    "start_time": "2023-09-30T10:15:03.468Z"
   },
   {
    "duration": 469,
    "start_time": "2023-09-30T10:15:03.509Z"
   },
   {
    "duration": 0,
    "start_time": "2023-09-30T10:15:03.979Z"
   },
   {
    "duration": 0,
    "start_time": "2023-09-30T10:15:03.980Z"
   },
   {
    "duration": 0,
    "start_time": "2023-09-30T10:15:03.981Z"
   },
   {
    "duration": 0,
    "start_time": "2023-09-30T10:15:03.982Z"
   },
   {
    "duration": 0,
    "start_time": "2023-09-30T10:15:03.983Z"
   },
   {
    "duration": 0,
    "start_time": "2023-09-30T10:15:03.984Z"
   },
   {
    "duration": 0,
    "start_time": "2023-09-30T10:15:03.985Z"
   },
   {
    "duration": 0,
    "start_time": "2023-09-30T10:15:03.986Z"
   },
   {
    "duration": 0,
    "start_time": "2023-09-30T10:15:03.987Z"
   },
   {
    "duration": 0,
    "start_time": "2023-09-30T10:15:03.988Z"
   },
   {
    "duration": 0,
    "start_time": "2023-09-30T10:15:03.988Z"
   },
   {
    "duration": 0,
    "start_time": "2023-09-30T10:15:03.989Z"
   },
   {
    "duration": 76,
    "start_time": "2023-09-30T10:17:05.026Z"
   },
   {
    "duration": 1279,
    "start_time": "2023-09-30T10:17:16.681Z"
   },
   {
    "duration": 3,
    "start_time": "2023-09-30T10:17:17.962Z"
   },
   {
    "duration": 406,
    "start_time": "2023-09-30T10:17:17.966Z"
   },
   {
    "duration": 12,
    "start_time": "2023-09-30T10:17:18.373Z"
   },
   {
    "duration": 20,
    "start_time": "2023-09-30T10:17:18.387Z"
   },
   {
    "duration": 19,
    "start_time": "2023-09-30T10:17:18.408Z"
   },
   {
    "duration": 48,
    "start_time": "2023-09-30T10:17:18.429Z"
   },
   {
    "duration": 410,
    "start_time": "2023-09-30T10:17:18.480Z"
   },
   {
    "duration": 449,
    "start_time": "2023-09-30T10:17:18.891Z"
   },
   {
    "duration": 378,
    "start_time": "2023-09-30T10:17:19.341Z"
   },
   {
    "duration": 19,
    "start_time": "2023-09-30T10:17:19.721Z"
   },
   {
    "duration": 117,
    "start_time": "2023-09-30T10:17:19.742Z"
   },
   {
    "duration": 35,
    "start_time": "2023-09-30T10:17:19.861Z"
   },
   {
    "duration": 90,
    "start_time": "2023-09-30T10:17:19.898Z"
   },
   {
    "duration": 15,
    "start_time": "2023-09-30T10:17:19.990Z"
   },
   {
    "duration": 31,
    "start_time": "2023-09-30T10:17:20.006Z"
   },
   {
    "duration": 24,
    "start_time": "2023-09-30T10:17:20.039Z"
   },
   {
    "duration": 8,
    "start_time": "2023-09-30T10:17:20.065Z"
   },
   {
    "duration": 493,
    "start_time": "2023-09-30T10:17:20.074Z"
   },
   {
    "duration": 600,
    "start_time": "2023-09-30T10:17:20.651Z"
   },
   {
    "duration": 3,
    "start_time": "2023-09-30T10:17:21.253Z"
   },
   {
    "duration": 125,
    "start_time": "2023-09-30T10:17:21.260Z"
   },
   {
    "duration": 31,
    "start_time": "2023-09-30T10:17:21.387Z"
   },
   {
    "duration": 50,
    "start_time": "2023-09-30T10:17:21.419Z"
   },
   {
    "duration": 22,
    "start_time": "2023-09-30T10:17:21.470Z"
   },
   {
    "duration": 3588,
    "start_time": "2023-09-30T10:17:21.493Z"
   },
   {
    "duration": 1287,
    "start_time": "2023-09-30T10:19:15.503Z"
   },
   {
    "duration": 3,
    "start_time": "2023-09-30T10:19:16.791Z"
   },
   {
    "duration": 369,
    "start_time": "2023-09-30T10:19:16.795Z"
   },
   {
    "duration": 12,
    "start_time": "2023-09-30T10:19:17.166Z"
   },
   {
    "duration": 16,
    "start_time": "2023-09-30T10:19:17.179Z"
   },
   {
    "duration": 27,
    "start_time": "2023-09-30T10:19:17.197Z"
   },
   {
    "duration": 51,
    "start_time": "2023-09-30T10:19:17.225Z"
   },
   {
    "duration": 381,
    "start_time": "2023-09-30T10:19:17.278Z"
   },
   {
    "duration": 420,
    "start_time": "2023-09-30T10:19:17.660Z"
   },
   {
    "duration": 359,
    "start_time": "2023-09-30T10:19:18.082Z"
   },
   {
    "duration": 28,
    "start_time": "2023-09-30T10:19:18.443Z"
   },
   {
    "duration": 121,
    "start_time": "2023-09-30T10:19:18.473Z"
   },
   {
    "duration": 35,
    "start_time": "2023-09-30T10:19:18.595Z"
   },
   {
    "duration": 85,
    "start_time": "2023-09-30T10:19:18.632Z"
   },
   {
    "duration": 14,
    "start_time": "2023-09-30T10:19:18.718Z"
   },
   {
    "duration": 27,
    "start_time": "2023-09-30T10:19:18.733Z"
   },
   {
    "duration": 24,
    "start_time": "2023-09-30T10:19:18.762Z"
   },
   {
    "duration": 13,
    "start_time": "2023-09-30T10:19:18.788Z"
   },
   {
    "duration": 463,
    "start_time": "2023-09-30T10:19:18.803Z"
   },
   {
    "duration": 682,
    "start_time": "2023-09-30T10:19:19.268Z"
   },
   {
    "duration": 4,
    "start_time": "2023-09-30T10:19:19.952Z"
   },
   {
    "duration": 114,
    "start_time": "2023-09-30T10:19:19.958Z"
   },
   {
    "duration": 26,
    "start_time": "2023-09-30T10:19:20.073Z"
   },
   {
    "duration": 49,
    "start_time": "2023-09-30T10:19:20.100Z"
   },
   {
    "duration": 21,
    "start_time": "2023-09-30T10:19:20.151Z"
   },
   {
    "duration": 3556,
    "start_time": "2023-09-30T10:19:20.173Z"
   },
   {
    "duration": 3,
    "start_time": "2023-09-30T10:19:55.448Z"
   },
   {
    "duration": 17,
    "start_time": "2023-09-30T10:19:58.285Z"
   },
   {
    "duration": 4,
    "start_time": "2023-09-30T10:20:07.494Z"
   },
   {
    "duration": 5,
    "start_time": "2023-09-30T10:20:11.803Z"
   },
   {
    "duration": 47,
    "start_time": "2023-09-30T10:20:11.809Z"
   },
   {
    "duration": 439,
    "start_time": "2023-09-30T10:20:11.858Z"
   },
   {
    "duration": 9,
    "start_time": "2023-09-30T10:20:12.298Z"
   },
   {
    "duration": 32,
    "start_time": "2023-09-30T10:20:12.310Z"
   },
   {
    "duration": 50,
    "start_time": "2023-09-30T10:20:12.343Z"
   },
   {
    "duration": 49,
    "start_time": "2023-09-30T10:20:12.394Z"
   },
   {
    "duration": 447,
    "start_time": "2023-09-30T10:20:12.444Z"
   },
   {
    "duration": 394,
    "start_time": "2023-09-30T10:20:12.893Z"
   },
   {
    "duration": 530,
    "start_time": "2023-09-30T10:20:13.289Z"
   },
   {
    "duration": 28,
    "start_time": "2023-09-30T10:20:13.821Z"
   },
   {
    "duration": 121,
    "start_time": "2023-09-30T10:20:13.851Z"
   },
   {
    "duration": 40,
    "start_time": "2023-09-30T10:20:13.975Z"
   },
   {
    "duration": 96,
    "start_time": "2023-09-30T10:20:14.017Z"
   },
   {
    "duration": 13,
    "start_time": "2023-09-30T10:20:14.115Z"
   },
   {
    "duration": 42,
    "start_time": "2023-09-30T10:20:14.130Z"
   },
   {
    "duration": 30,
    "start_time": "2023-09-30T10:20:14.173Z"
   },
   {
    "duration": 13,
    "start_time": "2023-09-30T10:20:14.204Z"
   },
   {
    "duration": 451,
    "start_time": "2023-09-30T10:20:14.219Z"
   },
   {
    "duration": 600,
    "start_time": "2023-09-30T10:20:14.672Z"
   },
   {
    "duration": 3,
    "start_time": "2023-09-30T10:20:15.352Z"
   },
   {
    "duration": 95,
    "start_time": "2023-09-30T10:20:15.357Z"
   },
   {
    "duration": 24,
    "start_time": "2023-09-30T10:20:15.453Z"
   },
   {
    "duration": 30,
    "start_time": "2023-09-30T10:20:15.478Z"
   },
   {
    "duration": 4,
    "start_time": "2023-09-30T10:20:15.510Z"
   },
   {
    "duration": 3734,
    "start_time": "2023-09-30T10:20:15.516Z"
   },
   {
    "duration": 3,
    "start_time": "2023-09-30T10:20:50.406Z"
   },
   {
    "duration": 16,
    "start_time": "2023-09-30T10:20:52.901Z"
   },
   {
    "duration": 4,
    "start_time": "2023-09-30T10:21:01.984Z"
   },
   {
    "duration": 76,
    "start_time": "2023-09-30T10:21:01.990Z"
   },
   {
    "duration": 510,
    "start_time": "2023-09-30T10:21:02.068Z"
   },
   {
    "duration": 9,
    "start_time": "2023-09-30T10:21:02.580Z"
   },
   {
    "duration": 39,
    "start_time": "2023-09-30T10:21:02.591Z"
   },
   {
    "duration": 23,
    "start_time": "2023-09-30T10:21:02.632Z"
   },
   {
    "duration": 59,
    "start_time": "2023-09-30T10:21:02.657Z"
   },
   {
    "duration": 369,
    "start_time": "2023-09-30T10:21:02.718Z"
   },
   {
    "duration": 384,
    "start_time": "2023-09-30T10:21:03.089Z"
   },
   {
    "duration": 467,
    "start_time": "2023-09-30T10:21:03.475Z"
   },
   {
    "duration": 21,
    "start_time": "2023-09-30T10:21:03.950Z"
   },
   {
    "duration": 111,
    "start_time": "2023-09-30T10:21:03.972Z"
   },
   {
    "duration": 36,
    "start_time": "2023-09-30T10:21:04.085Z"
   },
   {
    "duration": 89,
    "start_time": "2023-09-30T10:21:04.122Z"
   },
   {
    "duration": 14,
    "start_time": "2023-09-30T10:21:04.213Z"
   },
   {
    "duration": 24,
    "start_time": "2023-09-30T10:21:04.229Z"
   },
   {
    "duration": 13,
    "start_time": "2023-09-30T10:21:04.254Z"
   },
   {
    "duration": 9,
    "start_time": "2023-09-30T10:21:04.269Z"
   },
   {
    "duration": 382,
    "start_time": "2023-09-30T10:21:04.280Z"
   },
   {
    "duration": 603,
    "start_time": "2023-09-30T10:21:04.664Z"
   },
   {
    "duration": 83,
    "start_time": "2023-09-30T10:21:05.269Z"
   },
   {
    "duration": 101,
    "start_time": "2023-09-30T10:21:05.359Z"
   },
   {
    "duration": 20,
    "start_time": "2023-09-30T10:21:05.462Z"
   },
   {
    "duration": 29,
    "start_time": "2023-09-30T10:21:05.484Z"
   },
   {
    "duration": 4,
    "start_time": "2023-09-30T10:21:05.514Z"
   },
   {
    "duration": 3680,
    "start_time": "2023-09-30T10:21:05.519Z"
   },
   {
    "duration": 1286,
    "start_time": "2023-09-30T10:22:20.941Z"
   },
   {
    "duration": 3,
    "start_time": "2023-09-30T10:22:22.229Z"
   },
   {
    "duration": 387,
    "start_time": "2023-09-30T10:22:22.233Z"
   },
   {
    "duration": 13,
    "start_time": "2023-09-30T10:22:22.622Z"
   },
   {
    "duration": 26,
    "start_time": "2023-09-30T10:22:22.636Z"
   },
   {
    "duration": 32,
    "start_time": "2023-09-30T10:22:22.663Z"
   },
   {
    "duration": 52,
    "start_time": "2023-09-30T10:22:22.696Z"
   },
   {
    "duration": 390,
    "start_time": "2023-09-30T10:22:22.749Z"
   },
   {
    "duration": 434,
    "start_time": "2023-09-30T10:22:23.140Z"
   },
   {
    "duration": 368,
    "start_time": "2023-09-30T10:22:23.576Z"
   },
   {
    "duration": 23,
    "start_time": "2023-09-30T10:22:23.946Z"
   },
   {
    "duration": 121,
    "start_time": "2023-09-30T10:22:23.970Z"
   },
   {
    "duration": 36,
    "start_time": "2023-09-30T10:22:24.093Z"
   },
   {
    "duration": 88,
    "start_time": "2023-09-30T10:22:24.131Z"
   },
   {
    "duration": 31,
    "start_time": "2023-09-30T10:22:24.220Z"
   },
   {
    "duration": 14,
    "start_time": "2023-09-30T10:22:24.252Z"
   },
   {
    "duration": 27,
    "start_time": "2023-09-30T10:22:24.267Z"
   },
   {
    "duration": 5,
    "start_time": "2023-09-30T10:22:24.295Z"
   },
   {
    "duration": 465,
    "start_time": "2023-09-30T10:22:24.302Z"
   },
   {
    "duration": 681,
    "start_time": "2023-09-30T10:22:24.769Z"
   },
   {
    "duration": 4,
    "start_time": "2023-09-30T10:22:25.452Z"
   },
   {
    "duration": 104,
    "start_time": "2023-09-30T10:22:25.458Z"
   },
   {
    "duration": 9,
    "start_time": "2023-09-30T10:22:25.563Z"
   },
   {
    "duration": 110,
    "start_time": "2023-09-30T10:22:25.573Z"
   },
   {
    "duration": 0,
    "start_time": "2023-09-30T10:22:25.684Z"
   },
   {
    "duration": 0,
    "start_time": "2023-09-30T10:22:25.685Z"
   },
   {
    "duration": 1333,
    "start_time": "2023-09-30T10:22:52.373Z"
   },
   {
    "duration": 2,
    "start_time": "2023-09-30T10:22:53.708Z"
   },
   {
    "duration": 400,
    "start_time": "2023-09-30T10:22:53.712Z"
   },
   {
    "duration": 12,
    "start_time": "2023-09-30T10:22:54.114Z"
   },
   {
    "duration": 38,
    "start_time": "2023-09-30T10:22:54.127Z"
   },
   {
    "duration": 45,
    "start_time": "2023-09-30T10:22:54.166Z"
   },
   {
    "duration": 42,
    "start_time": "2023-09-30T10:22:54.212Z"
   },
   {
    "duration": 388,
    "start_time": "2023-09-30T10:22:54.256Z"
   },
   {
    "duration": 441,
    "start_time": "2023-09-30T10:22:54.646Z"
   },
   {
    "duration": 361,
    "start_time": "2023-09-30T10:22:55.091Z"
   },
   {
    "duration": 20,
    "start_time": "2023-09-30T10:22:55.454Z"
   },
   {
    "duration": 119,
    "start_time": "2023-09-30T10:22:55.475Z"
   },
   {
    "duration": 36,
    "start_time": "2023-09-30T10:22:55.596Z"
   },
   {
    "duration": 87,
    "start_time": "2023-09-30T10:22:55.633Z"
   },
   {
    "duration": 29,
    "start_time": "2023-09-30T10:22:55.721Z"
   },
   {
    "duration": 16,
    "start_time": "2023-09-30T10:22:55.752Z"
   },
   {
    "duration": 22,
    "start_time": "2023-09-30T10:22:55.770Z"
   },
   {
    "duration": 5,
    "start_time": "2023-09-30T10:22:55.793Z"
   },
   {
    "duration": 553,
    "start_time": "2023-09-30T10:22:55.799Z"
   },
   {
    "duration": 595,
    "start_time": "2023-09-30T10:22:56.359Z"
   },
   {
    "duration": 2,
    "start_time": "2023-09-30T10:22:57.049Z"
   },
   {
    "duration": 5,
    "start_time": "2023-09-30T10:22:57.053Z"
   },
   {
    "duration": 5,
    "start_time": "2023-09-30T10:22:57.059Z"
   },
   {
    "duration": 19,
    "start_time": "2023-09-30T10:22:57.065Z"
   },
   {
    "duration": 5,
    "start_time": "2023-09-30T10:22:57.085Z"
   },
   {
    "duration": 3694,
    "start_time": "2023-09-30T10:22:57.091Z"
   },
   {
    "duration": 16,
    "start_time": "2023-09-30T10:23:32.770Z"
   },
   {
    "duration": 4,
    "start_time": "2023-09-30T10:24:04.877Z"
   },
   {
    "duration": 6,
    "start_time": "2023-09-30T10:24:04.887Z"
   },
   {
    "duration": 381,
    "start_time": "2023-09-30T10:24:04.895Z"
   },
   {
    "duration": 8,
    "start_time": "2023-09-30T10:24:05.278Z"
   },
   {
    "duration": 23,
    "start_time": "2023-09-30T10:24:05.287Z"
   },
   {
    "duration": 23,
    "start_time": "2023-09-30T10:24:05.313Z"
   },
   {
    "duration": 43,
    "start_time": "2023-09-30T10:24:05.338Z"
   },
   {
    "duration": 373,
    "start_time": "2023-09-30T10:24:05.382Z"
   },
   {
    "duration": 426,
    "start_time": "2023-09-30T10:24:05.756Z"
   },
   {
    "duration": 503,
    "start_time": "2023-09-30T10:24:06.183Z"
   },
   {
    "duration": 20,
    "start_time": "2023-09-30T10:24:06.688Z"
   },
   {
    "duration": 108,
    "start_time": "2023-09-30T10:24:06.709Z"
   },
   {
    "duration": 48,
    "start_time": "2023-09-30T10:24:06.819Z"
   },
   {
    "duration": 87,
    "start_time": "2023-09-30T10:24:06.868Z"
   },
   {
    "duration": 14,
    "start_time": "2023-09-30T10:24:06.957Z"
   },
   {
    "duration": 12,
    "start_time": "2023-09-30T10:24:06.972Z"
   },
   {
    "duration": 18,
    "start_time": "2023-09-30T10:24:06.986Z"
   },
   {
    "duration": 13,
    "start_time": "2023-09-30T10:24:07.006Z"
   },
   {
    "duration": 447,
    "start_time": "2023-09-30T10:24:07.020Z"
   },
   {
    "duration": 598,
    "start_time": "2023-09-30T10:24:07.469Z"
   },
   {
    "duration": 82,
    "start_time": "2023-09-30T10:24:08.069Z"
   },
   {
    "duration": 98,
    "start_time": "2023-09-30T10:24:08.153Z"
   },
   {
    "duration": 5,
    "start_time": "2023-09-30T10:24:08.252Z"
   },
   {
    "duration": 19,
    "start_time": "2023-09-30T10:24:08.258Z"
   },
   {
    "duration": 4,
    "start_time": "2023-09-30T10:24:08.278Z"
   },
   {
    "duration": 3971,
    "start_time": "2023-09-30T10:24:08.283Z"
   },
   {
    "duration": 4,
    "start_time": "2023-09-30T10:26:29.048Z"
   },
   {
    "duration": 5,
    "start_time": "2023-09-30T10:26:29.054Z"
   },
   {
    "duration": 377,
    "start_time": "2023-09-30T10:26:29.060Z"
   },
   {
    "duration": 11,
    "start_time": "2023-09-30T10:26:29.439Z"
   },
   {
    "duration": 15,
    "start_time": "2023-09-30T10:26:29.453Z"
   },
   {
    "duration": 27,
    "start_time": "2023-09-30T10:26:29.469Z"
   },
   {
    "duration": 39,
    "start_time": "2023-09-30T10:26:29.497Z"
   },
   {
    "duration": 393,
    "start_time": "2023-09-30T10:26:29.537Z"
   },
   {
    "duration": 376,
    "start_time": "2023-09-30T10:26:29.932Z"
   },
   {
    "duration": 475,
    "start_time": "2023-09-30T10:26:30.309Z"
   },
   {
    "duration": 21,
    "start_time": "2023-09-30T10:26:30.785Z"
   },
   {
    "duration": 151,
    "start_time": "2023-09-30T10:26:30.807Z"
   },
   {
    "duration": 41,
    "start_time": "2023-09-30T10:26:30.960Z"
   },
   {
    "duration": 152,
    "start_time": "2023-09-30T10:26:31.004Z"
   },
   {
    "duration": 15,
    "start_time": "2023-09-30T10:26:31.158Z"
   },
   {
    "duration": 54,
    "start_time": "2023-09-30T10:26:31.175Z"
   },
   {
    "duration": 83,
    "start_time": "2023-09-30T10:26:31.230Z"
   },
   {
    "duration": 51,
    "start_time": "2023-09-30T10:26:31.315Z"
   },
   {
    "duration": 505,
    "start_time": "2023-09-30T10:26:31.368Z"
   },
   {
    "duration": 520,
    "start_time": "2023-09-30T10:26:31.951Z"
   },
   {
    "duration": 78,
    "start_time": "2023-09-30T10:26:32.473Z"
   },
   {
    "duration": 101,
    "start_time": "2023-09-30T10:26:32.558Z"
   },
   {
    "duration": 99,
    "start_time": "2023-09-30T10:26:32.661Z"
   },
   {
    "duration": 35,
    "start_time": "2023-09-30T10:26:32.762Z"
   },
   {
    "duration": 7,
    "start_time": "2023-09-30T10:26:32.798Z"
   },
   {
    "duration": 3736,
    "start_time": "2023-09-30T10:26:32.807Z"
   },
   {
    "duration": 3629,
    "start_time": "2023-09-30T11:57:32.318Z"
   },
   {
    "duration": 3,
    "start_time": "2023-09-30T11:57:35.949Z"
   },
   {
    "duration": 891,
    "start_time": "2023-09-30T11:57:35.954Z"
   },
   {
    "duration": 14,
    "start_time": "2023-09-30T11:57:36.847Z"
   },
   {
    "duration": 18,
    "start_time": "2023-09-30T11:57:36.862Z"
   },
   {
    "duration": 28,
    "start_time": "2023-09-30T11:57:36.882Z"
   },
   {
    "duration": 47,
    "start_time": "2023-09-30T11:57:36.913Z"
   },
   {
    "duration": 458,
    "start_time": "2023-09-30T11:57:36.962Z"
   },
   {
    "duration": 458,
    "start_time": "2023-09-30T11:57:37.422Z"
   },
   {
    "duration": 537,
    "start_time": "2023-09-30T11:57:37.883Z"
   },
   {
    "duration": 24,
    "start_time": "2023-09-30T11:57:38.422Z"
   },
   {
    "duration": 202,
    "start_time": "2023-09-30T11:57:38.447Z"
   },
   {
    "duration": 65,
    "start_time": "2023-09-30T11:57:38.651Z"
   },
   {
    "duration": 124,
    "start_time": "2023-09-30T11:57:38.718Z"
   },
   {
    "duration": 18,
    "start_time": "2023-09-30T11:57:38.843Z"
   },
   {
    "duration": 15,
    "start_time": "2023-09-30T11:57:38.863Z"
   },
   {
    "duration": 36,
    "start_time": "2023-09-30T11:57:38.880Z"
   },
   {
    "duration": 6,
    "start_time": "2023-09-30T11:57:38.918Z"
   },
   {
    "duration": 477,
    "start_time": "2023-09-30T11:57:38.926Z"
   },
   {
    "duration": 600,
    "start_time": "2023-09-30T11:57:39.406Z"
   },
   {
    "duration": 91,
    "start_time": "2023-09-30T11:57:40.011Z"
   },
   {
    "duration": 31,
    "start_time": "2023-09-30T11:57:40.104Z"
   },
   {
    "duration": 19,
    "start_time": "2023-09-30T11:57:40.136Z"
   },
   {
    "duration": 47,
    "start_time": "2023-09-30T11:57:40.157Z"
   },
   {
    "duration": 5,
    "start_time": "2023-09-30T11:57:40.205Z"
   },
   {
    "duration": 4233,
    "start_time": "2023-09-30T11:57:40.212Z"
   }
  ],
  "kernelspec": {
   "display_name": "Python [conda env:base] *",
   "language": "python",
   "name": "conda-base-py"
  },
  "language_info": {
   "codemirror_mode": {
    "name": "ipython",
    "version": 3
   },
   "file_extension": ".py",
   "mimetype": "text/x-python",
   "name": "python",
   "nbconvert_exporter": "python",
   "pygments_lexer": "ipython3",
   "version": "3.9.18"
  },
  "toc": {
   "base_numbering": 1,
   "nav_menu": {},
   "number_sections": true,
   "sideBar": true,
   "skip_h1_title": true,
   "title_cell": "Table of Contents",
   "title_sidebar": "Contents",
   "toc_cell": false,
   "toc_position": {},
   "toc_section_display": true,
   "toc_window_display": false
  }
 },
 "nbformat": 4,
 "nbformat_minor": 4
}
